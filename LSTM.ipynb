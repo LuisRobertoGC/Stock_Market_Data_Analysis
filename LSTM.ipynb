{
 "cells": [
  {
   "cell_type": "code",
   "execution_count": 1,
   "metadata": {},
   "outputs": [
    {
     "name": "stderr",
     "output_type": "stream",
     "text": [
      "Using TensorFlow backend.\n"
     ]
    }
   ],
   "source": [
    "#import packages\n",
    "import pandas as pd\n",
    "import numpy as np\n",
    "from sklearn.preprocessing import MinMaxScaler\n",
    "from keras.models import Sequential\n",
    "from keras.layers import Dense, Dropout, LSTM, Activation\n",
    "import time\n",
    "import plotly.plotly as py\n",
    "import plotly.graph_objs as go"
   ]
  },
  {
   "cell_type": "code",
   "execution_count": 2,
   "metadata": {},
   "outputs": [],
   "source": [
    "df = pd.read_csv('C:/Users/Desktop/Desktop/Dissertation/snp500/stock_dfs/IBM.csv')"
   ]
  },
  {
   "cell_type": "code",
   "execution_count": 3,
   "metadata": {
    "scrolled": true
   },
   "outputs": [
    {
     "data": {
      "text/html": [
       "<div>\n",
       "<style scoped>\n",
       "    .dataframe tbody tr th:only-of-type {\n",
       "        vertical-align: middle;\n",
       "    }\n",
       "\n",
       "    .dataframe tbody tr th {\n",
       "        vertical-align: top;\n",
       "    }\n",
       "\n",
       "    .dataframe thead th {\n",
       "        text-align: right;\n",
       "    }\n",
       "</style>\n",
       "<table border=\"1\" class=\"dataframe\">\n",
       "  <thead>\n",
       "    <tr style=\"text-align: right;\">\n",
       "      <th></th>\n",
       "      <th>Date</th>\n",
       "      <th>High</th>\n",
       "      <th>Low</th>\n",
       "      <th>Open</th>\n",
       "      <th>Close</th>\n",
       "      <th>Volume</th>\n",
       "      <th>Adj Close</th>\n",
       "    </tr>\n",
       "  </thead>\n",
       "  <tbody>\n",
       "    <tr>\n",
       "      <th>0</th>\n",
       "      <td>2000-01-03</td>\n",
       "      <td>116.0000</td>\n",
       "      <td>111.875</td>\n",
       "      <td>112.4375</td>\n",
       "      <td>116.0000</td>\n",
       "      <td>10347700.0</td>\n",
       "      <td>80.076149</td>\n",
       "    </tr>\n",
       "    <tr>\n",
       "      <th>1</th>\n",
       "      <td>2000-01-04</td>\n",
       "      <td>114.5000</td>\n",
       "      <td>110.875</td>\n",
       "      <td>114.0000</td>\n",
       "      <td>112.0625</td>\n",
       "      <td>8227800.0</td>\n",
       "      <td>77.358032</td>\n",
       "    </tr>\n",
       "    <tr>\n",
       "      <th>2</th>\n",
       "      <td>2000-01-05</td>\n",
       "      <td>119.7500</td>\n",
       "      <td>112.125</td>\n",
       "      <td>112.9375</td>\n",
       "      <td>116.0000</td>\n",
       "      <td>12733200.0</td>\n",
       "      <td>80.076149</td>\n",
       "    </tr>\n",
       "    <tr>\n",
       "      <th>3</th>\n",
       "      <td>2000-01-06</td>\n",
       "      <td>118.9375</td>\n",
       "      <td>113.500</td>\n",
       "      <td>118.0000</td>\n",
       "      <td>114.0000</td>\n",
       "      <td>7971900.0</td>\n",
       "      <td>78.695503</td>\n",
       "    </tr>\n",
       "    <tr>\n",
       "      <th>4</th>\n",
       "      <td>2000-01-07</td>\n",
       "      <td>117.9375</td>\n",
       "      <td>110.625</td>\n",
       "      <td>117.2500</td>\n",
       "      <td>113.5000</td>\n",
       "      <td>11856700.0</td>\n",
       "      <td>78.350372</td>\n",
       "    </tr>\n",
       "  </tbody>\n",
       "</table>\n",
       "</div>"
      ],
      "text/plain": [
       "         Date      High      Low      Open     Close      Volume  Adj Close\n",
       "0  2000-01-03  116.0000  111.875  112.4375  116.0000  10347700.0  80.076149\n",
       "1  2000-01-04  114.5000  110.875  114.0000  112.0625   8227800.0  77.358032\n",
       "2  2000-01-05  119.7500  112.125  112.9375  116.0000  12733200.0  80.076149\n",
       "3  2000-01-06  118.9375  113.500  118.0000  114.0000   7971900.0  78.695503\n",
       "4  2000-01-07  117.9375  110.625  117.2500  113.5000  11856700.0  78.350372"
      ]
     },
     "execution_count": 3,
     "metadata": {},
     "output_type": "execute_result"
    }
   ],
   "source": [
    "df.head()"
   ]
  },
  {
   "cell_type": "code",
   "execution_count": 4,
   "metadata": {},
   "outputs": [
    {
     "data": {
      "text/plain": [
       "(4800, 7)"
      ]
     },
     "execution_count": 4,
     "metadata": {},
     "output_type": "execute_result"
    }
   ],
   "source": [
    "df.shape"
   ]
  },
  {
   "cell_type": "code",
   "execution_count": 5,
   "metadata": {},
   "outputs": [],
   "source": [
    "df.index = df['Date']\n",
    "df_adjclose = df['Adj Close']"
   ]
  },
  {
   "cell_type": "code",
   "execution_count": 6,
   "metadata": {},
   "outputs": [],
   "source": [
    "#creating dataframe\n",
    "data = df.sort_index(ascending=True, axis=0)\n",
    "new_data = pd.DataFrame(index=range(0,len(df)),columns=['Date', 'Adj Close'])\n",
    "for i in range(0,len(data)):\n",
    "    new_data['Date'][i] = data['Date'][i]\n",
    "    new_data['Adj Close'][i] = data['Adj Close'][i]"
   ]
  },
  {
   "cell_type": "code",
   "execution_count": 7,
   "metadata": {},
   "outputs": [
    {
     "name": "stderr",
     "output_type": "stream",
     "text": [
      "D:\\Programs\\Anaconda\\lib\\site-packages\\IPython\\core\\display.py:689: UserWarning:\n",
      "\n",
      "Consider using IPython.display.IFrame instead\n",
      "\n"
     ]
    },
    {
     "data": {
      "text/html": [
       "<iframe id=\"igraph\" scrolling=\"no\" style=\"border:none;\" seamless=\"seamless\" src=\"https://plot.ly/~gauraz.singh/19.embed\" height=\"525px\" width=\"100%\"></iframe>"
      ],
      "text/plain": [
       "<plotly.tools.PlotlyDisplay object>"
      ]
     },
     "execution_count": 7,
     "metadata": {},
     "output_type": "execute_result"
    }
   ],
   "source": [
    "trace = go.Scatter(\n",
    "    x = df.index,\n",
    "    y = df_adjclose, mode = 'lines'\n",
    ")\n",
    "data = [trace]\n",
    "layout = dict(title = 'SP500',\n",
    "              xaxis = dict(title = 'Year'),\n",
    "              yaxis = dict(title = 'Adj Close'),\n",
    "              )\n",
    "fig = dict(data=data, layout=layout)\n",
    "py.iplot(fig, filename='SP500_LSTM')"
   ]
  },
  {
   "cell_type": "code",
   "execution_count": 8,
   "metadata": {},
   "outputs": [],
   "source": [
    "#setting index\n",
    "new_data.index = new_data.Date\n",
    "new_data.drop('Date', axis=1, inplace=True)"
   ]
  },
  {
   "cell_type": "code",
   "execution_count": 9,
   "metadata": {},
   "outputs": [],
   "source": [
    "#split into train and validation\n",
    "#creating train and test sets\n",
    "dataset = new_data.values\n",
    "train = dataset[:4700]\n",
    "valid = dataset[4700:]"
   ]
  },
  {
   "cell_type": "code",
   "execution_count": 10,
   "metadata": {},
   "outputs": [
    {
     "name": "stderr",
     "output_type": "stream",
     "text": [
      "D:\\Programs\\Anaconda\\lib\\site-packages\\sklearn\\utils\\validation.py:595: DataConversionWarning:\n",
      "\n",
      "Data with input dtype object was converted to float64 by MinMaxScaler.\n",
      "\n"
     ]
    }
   ],
   "source": [
    "#Normalising data\n",
    "scaler = MinMaxScaler(feature_range=(0, 1))\n",
    "scaled_data = scaler.fit_transform(dataset)"
   ]
  },
  {
   "cell_type": "code",
   "execution_count": 11,
   "metadata": {},
   "outputs": [],
   "source": [
    "x_train, y_train = [], []\n",
    "for i in range(60,len(train)):\n",
    "    x_train.append(scaled_data[i-60:i,0])\n",
    "    y_train.append(scaled_data[i,0])\n",
    "x_train, y_train = np.array(x_train), np.array(y_train)"
   ]
  },
  {
   "cell_type": "code",
   "execution_count": 12,
   "metadata": {},
   "outputs": [],
   "source": [
    "x_train = np.reshape(x_train, (x_train.shape[0],x_train.shape[1],1))"
   ]
  },
  {
   "cell_type": "code",
   "execution_count": 13,
   "metadata": {},
   "outputs": [
    {
     "name": "stderr",
     "output_type": "stream",
     "text": [
      "D:\\Programs\\Anaconda\\lib\\site-packages\\ipykernel_launcher.py:4: UserWarning:\n",
      "\n",
      "The `input_dim` and `input_length` arguments in recurrent layers are deprecated. Use `input_shape` instead.\n",
      "\n",
      "D:\\Programs\\Anaconda\\lib\\site-packages\\ipykernel_launcher.py:4: UserWarning:\n",
      "\n",
      "Update your `LSTM` call to the Keras 2 API: `LSTM(return_sequences=True, input_shape=(None, 1), units=50)`\n",
      "\n"
     ]
    },
    {
     "name": "stdout",
     "output_type": "stream",
     "text": [
      "compilation time :  0.0991201400756836\n"
     ]
    },
    {
     "name": "stderr",
     "output_type": "stream",
     "text": [
      "D:\\Programs\\Anaconda\\lib\\site-packages\\ipykernel_launcher.py:10: UserWarning:\n",
      "\n",
      "Update your `Dense` call to the Keras 2 API: `Dense(units=1)`\n",
      "\n"
     ]
    }
   ],
   "source": [
    "# create and fit the LSTM network\n",
    "model = Sequential()\n",
    "\n",
    "model.add(LSTM(input_dim=1, output_dim=50, return_sequences=True))\n",
    "model.add(Dropout(0.2))\n",
    "\n",
    "model.add(LSTM(100, return_sequences=False))\n",
    "model.add(Dropout(0.2))\n",
    "\n",
    "model.add(Dense(output_dim=1))\n",
    "model.add(Activation('linear'))\n",
    "\n",
    "start = time.time()\n",
    "model.compile(loss='mse', optimizer='adam')\n",
    "print ('compilation time : ', time.time() - start)"
   ]
  },
  {
   "cell_type": "code",
   "execution_count": 14,
   "metadata": {},
   "outputs": [
    {
     "name": "stdout",
     "output_type": "stream",
     "text": [
      "Train on 4408 samples, validate on 232 samples\n",
      "Epoch 1/18\n",
      "4408/4408 [==============================] - 10s 2ms/step - loss: 0.0377 - val_loss: 0.0035\n",
      "Epoch 2/18\n",
      "4408/4408 [==============================] - 7s 2ms/step - loss: 0.0025 - val_loss: 8.0603e-04\n",
      "Epoch 3/18\n",
      "4408/4408 [==============================] - 7s 2ms/step - loss: 0.0021 - val_loss: 7.6399e-04\n",
      "Epoch 4/18\n",
      "4408/4408 [==============================] - 7s 2ms/step - loss: 0.0020 - val_loss: 0.0010\n",
      "Epoch 5/18\n",
      "4408/4408 [==============================] - 8s 2ms/step - loss: 0.0019 - val_loss: 7.9220e-04\n",
      "Epoch 6/18\n",
      "4408/4408 [==============================] - 7s 2ms/step - loss: 0.0019 - val_loss: 8.5253e-04\n",
      "Epoch 7/18\n",
      "4408/4408 [==============================] - 7s 2ms/step - loss: 0.0018 - val_loss: 0.0011\n",
      "Epoch 8/18\n",
      "4408/4408 [==============================] - 9s 2ms/step - loss: 0.0017 - val_loss: 0.0015\n",
      "Epoch 9/18\n",
      "4408/4408 [==============================] - 7s 2ms/step - loss: 0.0017 - val_loss: 8.8802e-04\n",
      "Epoch 10/18\n",
      "4408/4408 [==============================] - 8s 2ms/step - loss: 0.0017 - val_loss: 0.0014\n",
      "Epoch 11/18\n",
      "4408/4408 [==============================] - 9s 2ms/step - loss: 0.0016 - val_loss: 7.1666e-04\n",
      "Epoch 12/18\n",
      "4408/4408 [==============================] - 10s 2ms/step - loss: 0.0016 - val_loss: 9.2276e-04\n",
      "Epoch 13/18\n",
      "4408/4408 [==============================] - 9s 2ms/step - loss: 0.0016 - val_loss: 0.0011\n",
      "Epoch 14/18\n",
      "4408/4408 [==============================] - 9s 2ms/step - loss: 0.0015 - val_loss: 7.6597e-04\n",
      "Epoch 15/18\n",
      "4408/4408 [==============================] - 10s 2ms/step - loss: 0.0014 - val_loss: 9.3132e-04\n",
      "Epoch 16/18\n",
      "4408/4408 [==============================] - 11s 3ms/step - loss: 0.0014 - val_loss: 7.3927e-04\n",
      "Epoch 17/18\n",
      "4408/4408 [==============================] - 12s 3ms/step - loss: 0.0014 - val_loss: 7.0837e-04\n",
      "Epoch 18/18\n",
      "4408/4408 [==============================] - 12s 3ms/step - loss: 0.0014 - val_loss: 0.0011\n"
     ]
    },
    {
     "data": {
      "text/plain": [
       "<keras.callbacks.History at 0x241f2b94be0>"
      ]
     },
     "execution_count": 14,
     "metadata": {},
     "output_type": "execute_result"
    }
   ],
   "source": [
    "#model.compile(loss='mean_squared_error', optimizer='adam')\n",
    "model.fit(x_train, y_train, epochs=18, batch_size=128, validation_split=0.05)"
   ]
  },
  {
   "cell_type": "code",
   "execution_count": 15,
   "metadata": {},
   "outputs": [],
   "source": [
    "#predicting values, using past 60 from the train data\n",
    "\n",
    "inputs = new_data[len(new_data) - len(valid) - 60:].values\n",
    "inputs = inputs.reshape(-1,1)\n",
    "inputs = scaler.transform(inputs)\n",
    "X_test = []\n",
    "for i in range(60, inputs.shape[0]):\n",
    "    X_test.append(inputs[i-60:i, 0])\n",
    "X_test = np.array(X_test)\n",
    "X_test = np.reshape(X_test, (X_test.shape[0], X_test.shape[1], 1))\n",
    "predicted_stock_price = model.predict(X_test)\n",
    "predicted_stock_price = scaler.inverse_transform(predicted_stock_price)"
   ]
  },
  {
   "cell_type": "code",
   "execution_count": 16,
   "metadata": {},
   "outputs": [
    {
     "data": {
      "text/plain": [
       "5.973112427782613"
      ]
     },
     "execution_count": 16,
     "metadata": {},
     "output_type": "execute_result"
    }
   ],
   "source": [
    "rms=np.sqrt(np.mean(np.power((valid-predicted_stock_price),2)))\n",
    "rms"
   ]
  },
  {
   "cell_type": "code",
   "execution_count": 17,
   "metadata": {},
   "outputs": [
    {
     "name": "stdout",
     "output_type": "stream",
     "text": [
      "[[141.91306 ]\n",
      " [141.90092 ]\n",
      " [141.85907 ]\n",
      " [141.84479 ]\n",
      " [141.85536 ]\n",
      " [142.00755 ]\n",
      " [142.21492 ]\n",
      " [142.42549 ]\n",
      " [142.65697 ]\n",
      " [142.91492 ]\n",
      " [143.28513 ]\n",
      " [143.72069 ]\n",
      " [144.10492 ]\n",
      " [144.37167 ]\n",
      " [144.68465 ]\n",
      " [145.00742 ]\n",
      " [145.3036  ]\n",
      " [145.65869 ]\n",
      " [146.0736  ]\n",
      " [146.47757 ]\n",
      " [146.75023 ]\n",
      " [146.79831 ]\n",
      " [146.65898 ]\n",
      " [146.34389 ]\n",
      " [145.69292 ]\n",
      " [144.66185 ]\n",
      " [143.53378 ]\n",
      " [142.42702 ]\n",
      " [141.61319 ]\n",
      " [140.4639  ]\n",
      " [138.9625  ]\n",
      " [137.23175 ]\n",
      " [135.49689 ]\n",
      " [133.92583 ]\n",
      " [132.34512 ]\n",
      " [130.80527 ]\n",
      " [129.29056 ]\n",
      " [127.60193 ]\n",
      " [125.661255]\n",
      " [123.6603  ]\n",
      " [121.80887 ]\n",
      " [120.10333 ]\n",
      " [118.82722 ]\n",
      " [118.07679 ]\n",
      " [117.81196 ]\n",
      " [117.887955]\n",
      " [118.187675]\n",
      " [118.467766]\n",
      " [118.70513 ]\n",
      " [118.85988 ]\n",
      " [119.01432 ]\n",
      " [119.16671 ]\n",
      " [119.240555]\n",
      " [119.08756 ]\n",
      " [118.86363 ]\n",
      " [118.53266 ]\n",
      " [118.27893 ]\n",
      " [118.120865]\n",
      " [118.19877 ]\n",
      " [118.35006 ]\n",
      " [118.690216]\n",
      " [119.19352 ]\n",
      " [119.57443 ]\n",
      " [119.97057 ]\n",
      " [120.10632 ]\n",
      " [120.15295 ]\n",
      " [120.12657 ]\n",
      " [120.06961 ]\n",
      " [119.97436 ]\n",
      " [119.81524 ]\n",
      " [119.4167  ]\n",
      " [118.9087  ]\n",
      " [118.34694 ]\n",
      " [117.59841 ]\n",
      " [116.65394 ]\n",
      " [115.449104]\n",
      " [114.3472  ]\n",
      " [113.51356 ]\n",
      " [112.870964]\n",
      " [112.42702 ]\n",
      " [112.22327 ]\n",
      " [112.06463 ]\n",
      " [112.179474]\n",
      " [112.51594 ]\n",
      " [113.070114]\n",
      " [113.78206 ]\n",
      " [114.61478 ]\n",
      " [115.45923 ]\n",
      " [116.20093 ]\n",
      " [116.90049 ]\n",
      " [117.52593 ]\n",
      " [118.097084]\n",
      " [118.68891 ]\n",
      " [119.192726]\n",
      " [120.17004 ]\n",
      " [121.39845 ]\n",
      " [122.80066 ]\n",
      " [124.25183 ]\n",
      " [125.65151 ]\n",
      " [126.93583 ]]\n"
     ]
    }
   ],
   "source": [
    "print(predicted_stock_price)"
   ]
  },
  {
   "cell_type": "code",
   "execution_count": 18,
   "metadata": {},
   "outputs": [
    {
     "name": "stderr",
     "output_type": "stream",
     "text": [
      "D:\\Programs\\Anaconda\\lib\\site-packages\\IPython\\core\\display.py:689: UserWarning:\n",
      "\n",
      "Consider using IPython.display.IFrame instead\n",
      "\n"
     ]
    },
    {
     "data": {
      "text/html": [
       "<iframe id=\"igraph\" scrolling=\"no\" style=\"border:none;\" seamless=\"seamless\" src=\"https://plot.ly/~gauraz.singh/21.embed\" height=\"525px\" width=\"100%\"></iframe>"
      ],
      "text/plain": [
       "<plotly.tools.PlotlyDisplay object>"
      ]
     },
     "execution_count": 18,
     "metadata": {},
     "output_type": "execute_result"
    }
   ],
   "source": [
    "#for plotting\n",
    "train = new_data[:4700]\n",
    "valid = new_data[4700:]\n",
    "trace0 = go.Scatter(x = train.index, y=train['Adj Close'], mode = 'lines', name ='Train')\n",
    "trace1 = go.Scatter(x = valid.index, y=valid['Adj Close'], mode = 'lines', name = 'Valid')\n",
    "trace2 = go.Scatter(x = valid.index, y=predicted_stock_price, mode = 'lines', name = 'Predition')\n",
    "layout = dict(title = 'LSTM',\n",
    "              xaxis = dict(title = 'Date'),\n",
    "              yaxis = dict(title = 'Adj Close'),\n",
    "              )\n",
    "data = [trace0, trace1, trace2]\n",
    "fig = dict(data=data, layout=layout)\n",
    "py.iplot(fig, filename='LSTM')"
   ]
  },
  {
   "cell_type": "code",
   "execution_count": null,
   "metadata": {},
   "outputs": [],
   "source": []
  }
 ],
 "metadata": {
  "kernelspec": {
   "display_name": "Python 3",
   "language": "python",
   "name": "python3"
  },
  "language_info": {
   "codemirror_mode": {
    "name": "ipython",
    "version": 3
   },
   "file_extension": ".py",
   "mimetype": "text/x-python",
   "name": "python",
   "nbconvert_exporter": "python",
   "pygments_lexer": "ipython3",
   "version": "3.6.8"
  }
 },
 "nbformat": 4,
 "nbformat_minor": 2
}
