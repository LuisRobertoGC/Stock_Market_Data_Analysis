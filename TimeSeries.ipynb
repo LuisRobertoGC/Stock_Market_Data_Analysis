{
 "cells": [
  {
   "cell_type": "code",
   "execution_count": 2,
   "metadata": {},
   "outputs": [],
   "source": [
    "#importing libraries\n",
    "import pandas as pd\n",
    "import numpy as np\n",
    "import matplotlib.pyplot as plt\n",
    "%matplotlib inline\n",
    "from datetime import datetime\n",
    "from pandas import Series\n",
    "import plotly.plotly as py\n",
    "import plotly.graph_objs as go\n",
    "from sklearn.metrics import mean_squared_error\n",
    "plt.style.use('fivethirtyeight')"
   ]
  },
  {
   "cell_type": "code",
   "execution_count": 3,
   "metadata": {},
   "outputs": [],
   "source": [
    "#importing dataset\n",
    "df = pd.read_csv(\"C:/Users/Desktop/Desktop/Dissertation/snp500/stock_dfs/IBM.csv\")"
   ]
  },
  {
   "cell_type": "code",
   "execution_count": 4,
   "metadata": {},
   "outputs": [
    {
     "data": {
      "text/plain": [
       "(4800, 7)"
      ]
     },
     "execution_count": 4,
     "metadata": {},
     "output_type": "execute_result"
    }
   ],
   "source": [
    "#current shape of an array\n",
    "df.shape"
   ]
  },
  {
   "cell_type": "code",
   "execution_count": 5,
   "metadata": {
    "scrolled": true
   },
   "outputs": [
    {
     "data": {
      "text/html": [
       "<div>\n",
       "<style scoped>\n",
       "    .dataframe tbody tr th:only-of-type {\n",
       "        vertical-align: middle;\n",
       "    }\n",
       "\n",
       "    .dataframe tbody tr th {\n",
       "        vertical-align: top;\n",
       "    }\n",
       "\n",
       "    .dataframe thead th {\n",
       "        text-align: right;\n",
       "    }\n",
       "</style>\n",
       "<table border=\"1\" class=\"dataframe\">\n",
       "  <thead>\n",
       "    <tr style=\"text-align: right;\">\n",
       "      <th></th>\n",
       "      <th>Date</th>\n",
       "      <th>High</th>\n",
       "      <th>Low</th>\n",
       "      <th>Open</th>\n",
       "      <th>Close</th>\n",
       "      <th>Volume</th>\n",
       "      <th>Adj Close</th>\n",
       "    </tr>\n",
       "  </thead>\n",
       "  <tbody>\n",
       "    <tr>\n",
       "      <th>0</th>\n",
       "      <td>2000-01-03</td>\n",
       "      <td>116.0000</td>\n",
       "      <td>111.875</td>\n",
       "      <td>112.4375</td>\n",
       "      <td>116.0000</td>\n",
       "      <td>10347700.0</td>\n",
       "      <td>80.076149</td>\n",
       "    </tr>\n",
       "    <tr>\n",
       "      <th>1</th>\n",
       "      <td>2000-01-04</td>\n",
       "      <td>114.5000</td>\n",
       "      <td>110.875</td>\n",
       "      <td>114.0000</td>\n",
       "      <td>112.0625</td>\n",
       "      <td>8227800.0</td>\n",
       "      <td>77.358032</td>\n",
       "    </tr>\n",
       "    <tr>\n",
       "      <th>2</th>\n",
       "      <td>2000-01-05</td>\n",
       "      <td>119.7500</td>\n",
       "      <td>112.125</td>\n",
       "      <td>112.9375</td>\n",
       "      <td>116.0000</td>\n",
       "      <td>12733200.0</td>\n",
       "      <td>80.076149</td>\n",
       "    </tr>\n",
       "    <tr>\n",
       "      <th>3</th>\n",
       "      <td>2000-01-06</td>\n",
       "      <td>118.9375</td>\n",
       "      <td>113.500</td>\n",
       "      <td>118.0000</td>\n",
       "      <td>114.0000</td>\n",
       "      <td>7971900.0</td>\n",
       "      <td>78.695503</td>\n",
       "    </tr>\n",
       "    <tr>\n",
       "      <th>4</th>\n",
       "      <td>2000-01-07</td>\n",
       "      <td>117.9375</td>\n",
       "      <td>110.625</td>\n",
       "      <td>117.2500</td>\n",
       "      <td>113.5000</td>\n",
       "      <td>11856700.0</td>\n",
       "      <td>78.350372</td>\n",
       "    </tr>\n",
       "  </tbody>\n",
       "</table>\n",
       "</div>"
      ],
      "text/plain": [
       "         Date      High      Low      Open     Close      Volume  Adj Close\n",
       "0  2000-01-03  116.0000  111.875  112.4375  116.0000  10347700.0  80.076149\n",
       "1  2000-01-04  114.5000  110.875  114.0000  112.0625   8227800.0  77.358032\n",
       "2  2000-01-05  119.7500  112.125  112.9375  116.0000  12733200.0  80.076149\n",
       "3  2000-01-06  118.9375  113.500  118.0000  114.0000   7971900.0  78.695503\n",
       "4  2000-01-07  117.9375  110.625  117.2500  113.5000  11856700.0  78.350372"
      ]
     },
     "execution_count": 5,
     "metadata": {},
     "output_type": "execute_result"
    }
   ],
   "source": [
    "# First 5 rows of IBM \n",
    "df.head()"
   ]
  },
  {
   "cell_type": "code",
   "execution_count": 6,
   "metadata": {},
   "outputs": [],
   "source": [
    "# Add Feature to dataset as i.e. Extracting Year and Month from Date Column\n",
    "df['year'] = pd.DatetimeIndex(df['Date']).year\n",
    "df['month'] = pd.DatetimeIndex(df['Date']).month"
   ]
  },
  {
   "cell_type": "code",
   "execution_count": 7,
   "metadata": {},
   "outputs": [
    {
     "data": {
      "text/html": [
       "<div>\n",
       "<style scoped>\n",
       "    .dataframe tbody tr th:only-of-type {\n",
       "        vertical-align: middle;\n",
       "    }\n",
       "\n",
       "    .dataframe tbody tr th {\n",
       "        vertical-align: top;\n",
       "    }\n",
       "\n",
       "    .dataframe thead th {\n",
       "        text-align: right;\n",
       "    }\n",
       "</style>\n",
       "<table border=\"1\" class=\"dataframe\">\n",
       "  <thead>\n",
       "    <tr style=\"text-align: right;\">\n",
       "      <th></th>\n",
       "      <th>Date</th>\n",
       "      <th>High</th>\n",
       "      <th>Low</th>\n",
       "      <th>Open</th>\n",
       "      <th>Close</th>\n",
       "      <th>Volume</th>\n",
       "      <th>Adj Close</th>\n",
       "      <th>year</th>\n",
       "      <th>month</th>\n",
       "    </tr>\n",
       "  </thead>\n",
       "  <tbody>\n",
       "    <tr>\n",
       "      <th>4795</th>\n",
       "      <td>2019-01-25</td>\n",
       "      <td>134.440002</td>\n",
       "      <td>132.429993</td>\n",
       "      <td>132.869995</td>\n",
       "      <td>133.970001</td>\n",
       "      <td>5707400.0</td>\n",
       "      <td>133.970001</td>\n",
       "      <td>2019</td>\n",
       "      <td>1</td>\n",
       "    </tr>\n",
       "    <tr>\n",
       "      <th>4796</th>\n",
       "      <td>2019-01-28</td>\n",
       "      <td>134.809998</td>\n",
       "      <td>132.580002</td>\n",
       "      <td>133.100006</td>\n",
       "      <td>134.270004</td>\n",
       "      <td>5357700.0</td>\n",
       "      <td>134.270004</td>\n",
       "      <td>2019</td>\n",
       "      <td>1</td>\n",
       "    </tr>\n",
       "    <tr>\n",
       "      <th>4797</th>\n",
       "      <td>2019-01-29</td>\n",
       "      <td>135.410004</td>\n",
       "      <td>133.600006</td>\n",
       "      <td>134.289993</td>\n",
       "      <td>134.330002</td>\n",
       "      <td>5037100.0</td>\n",
       "      <td>134.330002</td>\n",
       "      <td>2019</td>\n",
       "      <td>1</td>\n",
       "    </tr>\n",
       "    <tr>\n",
       "      <th>4798</th>\n",
       "      <td>2019-01-30</td>\n",
       "      <td>135.029999</td>\n",
       "      <td>133.250000</td>\n",
       "      <td>134.000000</td>\n",
       "      <td>134.380005</td>\n",
       "      <td>4500900.0</td>\n",
       "      <td>134.380005</td>\n",
       "      <td>2019</td>\n",
       "      <td>1</td>\n",
       "    </tr>\n",
       "    <tr>\n",
       "      <th>4799</th>\n",
       "      <td>2019-01-31</td>\n",
       "      <td>134.720001</td>\n",
       "      <td>133.740005</td>\n",
       "      <td>134.449997</td>\n",
       "      <td>134.419998</td>\n",
       "      <td>4884000.0</td>\n",
       "      <td>134.419998</td>\n",
       "      <td>2019</td>\n",
       "      <td>1</td>\n",
       "    </tr>\n",
       "  </tbody>\n",
       "</table>\n",
       "</div>"
      ],
      "text/plain": [
       "            Date        High         Low        Open       Close     Volume  \\\n",
       "4795  2019-01-25  134.440002  132.429993  132.869995  133.970001  5707400.0   \n",
       "4796  2019-01-28  134.809998  132.580002  133.100006  134.270004  5357700.0   \n",
       "4797  2019-01-29  135.410004  133.600006  134.289993  134.330002  5037100.0   \n",
       "4798  2019-01-30  135.029999  133.250000  134.000000  134.380005  4500900.0   \n",
       "4799  2019-01-31  134.720001  133.740005  134.449997  134.419998  4884000.0   \n",
       "\n",
       "       Adj Close  year  month  \n",
       "4795  133.970001  2019      1  \n",
       "4796  134.270004  2019      1  \n",
       "4797  134.330002  2019      1  \n",
       "4798  134.380005  2019      1  \n",
       "4799  134.419998  2019      1  "
      ]
     },
     "execution_count": 7,
     "metadata": {},
     "output_type": "execute_result"
    }
   ],
   "source": [
    "# Last 5 rows with Year & Month column\n",
    "df.tail()"
   ]
  },
  {
   "cell_type": "code",
   "execution_count": 8,
   "metadata": {},
   "outputs": [],
   "source": [
    "#Setting index as Date and create new dataframe to use as target variable for Adj Close\n",
    "df.index = df['Date']\n",
    "df_adjclose = df['Adj Close']"
   ]
  },
  {
   "cell_type": "code",
   "execution_count": 9,
   "metadata": {},
   "outputs": [
    {
     "name": "stderr",
     "output_type": "stream",
     "text": [
      "D:\\Programs\\Anaconda\\lib\\site-packages\\IPython\\core\\display.py:689: UserWarning:\n",
      "\n",
      "Consider using IPython.display.IFrame instead\n",
      "\n"
     ]
    },
    {
     "data": {
      "text/html": [
       "<iframe id=\"igraph\" scrolling=\"no\" style=\"border:none;\" seamless=\"seamless\" src=\"https://plot.ly/~gauraz.singh/5.embed\" height=\"525px\" width=\"100%\"></iframe>"
      ],
      "text/plain": [
       "<plotly.tools.PlotlyDisplay object>"
      ]
     },
     "execution_count": 9,
     "metadata": {},
     "output_type": "execute_result"
    }
   ],
   "source": [
    "#Plotting \n",
    "trace = go.Scatter(\n",
    "    x = df.index,\n",
    "    y = df_adjclose, mode = 'lines'\n",
    ")\n",
    "data = [trace]\n",
    "layout = dict(title = 'IBM',\n",
    "              xaxis = dict(title = 'Year'),\n",
    "              yaxis = dict(title = 'Adj Close'),\n",
    "              )\n",
    "fig = dict(data=data, layout=layout)\n",
    "py.iplot(fig, filename='IBM_adjclose')"
   ]
  },
  {
   "cell_type": "code",
   "execution_count": 10,
   "metadata": {},
   "outputs": [
    {
     "data": {
      "text/plain": [
       "<matplotlib.axes._subplots.AxesSubplot at 0x27d6d9bee80>"
      ]
     },
     "execution_count": 10,
     "metadata": {},
     "output_type": "execute_result"
    },
    {
     "data": {
      "image/png": "[encoded data removed]",
      "text/plain": [
       "<Figure size 432x288 with 1 Axes>"
      ]
     },
     "metadata": {
      "needs_background": "light"
     },
     "output_type": "display_data"
    }
   ],
   "source": [
    "#Plot with mean and year\n",
    "df.groupby('year')['Adj Close'].mean().plot.bar()"
   ]
  },
  {
   "cell_type": "code",
   "execution_count": 11,
   "metadata": {},
   "outputs": [
    {
     "data": {
      "text/plain": [
       "<matplotlib.axes._subplots.AxesSubplot at 0x27d6f35a7f0>"
      ]
     },
     "execution_count": 11,
     "metadata": {},
     "output_type": "execute_result"
    },
    {
     "data": {
      "image/png": "[encoded data removed]",
      "text/plain": [
       "<Figure size 432x288 with 1 Axes>"
      ]
     },
     "metadata": {
      "needs_background": "light"
     },
     "output_type": "display_data"
    }
   ],
   "source": [
    "#Plot - Month\n",
    "df.groupby('month')['Adj Close'].mean().plot.bar()"
   ]
  },
  {
   "cell_type": "code",
   "execution_count": 12,
   "metadata": {},
   "outputs": [
    {
     "data": {
      "text/plain": [
       "<matplotlib.axes._subplots.AxesSubplot at 0x27d6f3dde48>"
      ]
     },
     "execution_count": 12,
     "metadata": {},
     "output_type": "execute_result"
    },
    {
     "data": {
      "image/png": "[encoded data removed]",
      "text/plain": [
       "<Figure size 864x576 with 1 Axes>"
      ]
     },
     "metadata": {
      "needs_background": "light"
     },
     "output_type": "display_data"
    }
   ],
   "source": [
    "#Plot Year & Month\n",
    "temp_my = df.groupby(['year', 'month'])['Adj Close'].mean()\n",
    "temp_my.plot(figsize =(12,8), title = \"IBM Adj Close (Monthwise)\", fontsize = 14)"
   ]
  },
  {
   "cell_type": "code",
   "execution_count": 9,
   "metadata": {},
   "outputs": [],
   "source": [
    "#split into train and validation\n",
    "train = df[:4750]\n",
    "valid = df[4750:]"
   ]
  },
  {
   "cell_type": "code",
   "execution_count": 10,
   "metadata": {},
   "outputs": [
    {
     "data": {
      "text/plain": [
       "((4750, 9), (50, 9))"
      ]
     },
     "execution_count": 10,
     "metadata": {},
     "output_type": "execute_result"
    }
   ],
   "source": [
    "train.shape, valid.shape"
   ]
  },
  {
   "cell_type": "code",
   "execution_count": 11,
   "metadata": {},
   "outputs": [
    {
     "data": {
      "text/html": [
       "<div>\n",
       "<style scoped>\n",
       "    .dataframe tbody tr th:only-of-type {\n",
       "        vertical-align: middle;\n",
       "    }\n",
       "\n",
       "    .dataframe tbody tr th {\n",
       "        vertical-align: top;\n",
       "    }\n",
       "\n",
       "    .dataframe thead th {\n",
       "        text-align: right;\n",
       "    }\n",
       "</style>\n",
       "<table border=\"1\" class=\"dataframe\">\n",
       "  <thead>\n",
       "    <tr style=\"text-align: right;\">\n",
       "      <th></th>\n",
       "      <th>Date</th>\n",
       "      <th>High</th>\n",
       "      <th>Low</th>\n",
       "      <th>Open</th>\n",
       "      <th>Close</th>\n",
       "      <th>Volume</th>\n",
       "      <th>Adj Close</th>\n",
       "      <th>year</th>\n",
       "      <th>month</th>\n",
       "    </tr>\n",
       "    <tr>\n",
       "      <th>Date</th>\n",
       "      <th></th>\n",
       "      <th></th>\n",
       "      <th></th>\n",
       "      <th></th>\n",
       "      <th></th>\n",
       "      <th></th>\n",
       "      <th></th>\n",
       "      <th></th>\n",
       "      <th></th>\n",
       "    </tr>\n",
       "  </thead>\n",
       "  <tbody>\n",
       "    <tr>\n",
       "      <th>2018-11-09</th>\n",
       "      <td>2018-11-09</td>\n",
       "      <td>124.570000</td>\n",
       "      <td>121.959999</td>\n",
       "      <td>123.610001</td>\n",
       "      <td>123.540001</td>\n",
       "      <td>6961800.0</td>\n",
       "      <td>123.540001</td>\n",
       "      <td>2018</td>\n",
       "      <td>11</td>\n",
       "    </tr>\n",
       "    <tr>\n",
       "      <th>2018-11-12</th>\n",
       "      <td>2018-11-12</td>\n",
       "      <td>123.570000</td>\n",
       "      <td>120.650002</td>\n",
       "      <td>123.500000</td>\n",
       "      <td>120.900002</td>\n",
       "      <td>5379100.0</td>\n",
       "      <td>120.900002</td>\n",
       "      <td>2018</td>\n",
       "      <td>11</td>\n",
       "    </tr>\n",
       "    <tr>\n",
       "      <th>2018-11-13</th>\n",
       "      <td>2018-11-13</td>\n",
       "      <td>122.250000</td>\n",
       "      <td>119.900002</td>\n",
       "      <td>121.190002</td>\n",
       "      <td>120.839996</td>\n",
       "      <td>4084400.0</td>\n",
       "      <td>120.839996</td>\n",
       "      <td>2018</td>\n",
       "      <td>11</td>\n",
       "    </tr>\n",
       "    <tr>\n",
       "      <th>2018-11-14</th>\n",
       "      <td>2018-11-14</td>\n",
       "      <td>121.930000</td>\n",
       "      <td>119.769997</td>\n",
       "      <td>121.110001</td>\n",
       "      <td>120.199997</td>\n",
       "      <td>4762300.0</td>\n",
       "      <td>120.199997</td>\n",
       "      <td>2018</td>\n",
       "      <td>11</td>\n",
       "    </tr>\n",
       "    <tr>\n",
       "      <th>2018-11-15</th>\n",
       "      <td>2018-11-15</td>\n",
       "      <td>121.440002</td>\n",
       "      <td>119.510002</td>\n",
       "      <td>119.660004</td>\n",
       "      <td>121.440002</td>\n",
       "      <td>5207900.0</td>\n",
       "      <td>121.440002</td>\n",
       "      <td>2018</td>\n",
       "      <td>11</td>\n",
       "    </tr>\n",
       "  </tbody>\n",
       "</table>\n",
       "</div>"
      ],
      "text/plain": [
       "                  Date        High         Low        Open       Close  \\\n",
       "Date                                                                     \n",
       "2018-11-09  2018-11-09  124.570000  121.959999  123.610001  123.540001   \n",
       "2018-11-12  2018-11-12  123.570000  120.650002  123.500000  120.900002   \n",
       "2018-11-13  2018-11-13  122.250000  119.900002  121.190002  120.839996   \n",
       "2018-11-14  2018-11-14  121.930000  119.769997  121.110001  120.199997   \n",
       "2018-11-15  2018-11-15  121.440002  119.510002  119.660004  121.440002   \n",
       "\n",
       "               Volume   Adj Close  year  month  \n",
       "Date                                            \n",
       "2018-11-09  6961800.0  123.540001  2018     11  \n",
       "2018-11-12  5379100.0  120.900002  2018     11  \n",
       "2018-11-13  4084400.0  120.839996  2018     11  \n",
       "2018-11-14  4762300.0  120.199997  2018     11  \n",
       "2018-11-15  5207900.0  121.440002  2018     11  "
      ]
     },
     "execution_count": 11,
     "metadata": {},
     "output_type": "execute_result"
    }
   ],
   "source": [
    "train.tail()"
   ]
  },
  {
   "cell_type": "code",
   "execution_count": 12,
   "metadata": {},
   "outputs": [
    {
     "data": {
      "text/html": [
       "<div>\n",
       "<style scoped>\n",
       "    .dataframe tbody tr th:only-of-type {\n",
       "        vertical-align: middle;\n",
       "    }\n",
       "\n",
       "    .dataframe tbody tr th {\n",
       "        vertical-align: top;\n",
       "    }\n",
       "\n",
       "    .dataframe thead th {\n",
       "        text-align: right;\n",
       "    }\n",
       "</style>\n",
       "<table border=\"1\" class=\"dataframe\">\n",
       "  <thead>\n",
       "    <tr style=\"text-align: right;\">\n",
       "      <th></th>\n",
       "      <th>Date</th>\n",
       "      <th>High</th>\n",
       "      <th>Low</th>\n",
       "      <th>Open</th>\n",
       "      <th>Close</th>\n",
       "      <th>Volume</th>\n",
       "      <th>Adj Close</th>\n",
       "      <th>year</th>\n",
       "      <th>month</th>\n",
       "    </tr>\n",
       "    <tr>\n",
       "      <th>Date</th>\n",
       "      <th></th>\n",
       "      <th></th>\n",
       "      <th></th>\n",
       "      <th></th>\n",
       "      <th></th>\n",
       "      <th></th>\n",
       "      <th></th>\n",
       "      <th></th>\n",
       "      <th></th>\n",
       "    </tr>\n",
       "  </thead>\n",
       "  <tbody>\n",
       "    <tr>\n",
       "      <th>2018-11-16</th>\n",
       "      <td>2018-11-16</td>\n",
       "      <td>121.849998</td>\n",
       "      <td>120.540001</td>\n",
       "      <td>120.889999</td>\n",
       "      <td>121.570000</td>\n",
       "      <td>4076300.0</td>\n",
       "      <td>121.570000</td>\n",
       "      <td>2018</td>\n",
       "      <td>11</td>\n",
       "    </tr>\n",
       "    <tr>\n",
       "      <th>2018-11-19</th>\n",
       "      <td>2018-11-19</td>\n",
       "      <td>122.180000</td>\n",
       "      <td>119.769997</td>\n",
       "      <td>121.629997</td>\n",
       "      <td>120.309998</td>\n",
       "      <td>4131200.0</td>\n",
       "      <td>120.309998</td>\n",
       "      <td>2018</td>\n",
       "      <td>11</td>\n",
       "    </tr>\n",
       "    <tr>\n",
       "      <th>2018-11-20</th>\n",
       "      <td>2018-11-20</td>\n",
       "      <td>119.489998</td>\n",
       "      <td>116.699997</td>\n",
       "      <td>118.489998</td>\n",
       "      <td>117.199997</td>\n",
       "      <td>6233800.0</td>\n",
       "      <td>117.199997</td>\n",
       "      <td>2018</td>\n",
       "      <td>11</td>\n",
       "    </tr>\n",
       "    <tr>\n",
       "      <th>2018-11-21</th>\n",
       "      <td>2018-11-21</td>\n",
       "      <td>119.510002</td>\n",
       "      <td>117.389999</td>\n",
       "      <td>117.610001</td>\n",
       "      <td>118.570000</td>\n",
       "      <td>5335800.0</td>\n",
       "      <td>118.570000</td>\n",
       "      <td>2018</td>\n",
       "      <td>11</td>\n",
       "    </tr>\n",
       "    <tr>\n",
       "      <th>2018-11-23</th>\n",
       "      <td>2018-11-23</td>\n",
       "      <td>118.339996</td>\n",
       "      <td>116.910004</td>\n",
       "      <td>118.089996</td>\n",
       "      <td>117.190002</td>\n",
       "      <td>2334700.0</td>\n",
       "      <td>117.190002</td>\n",
       "      <td>2018</td>\n",
       "      <td>11</td>\n",
       "    </tr>\n",
       "  </tbody>\n",
       "</table>\n",
       "</div>"
      ],
      "text/plain": [
       "                  Date        High         Low        Open       Close  \\\n",
       "Date                                                                     \n",
       "2018-11-16  2018-11-16  121.849998  120.540001  120.889999  121.570000   \n",
       "2018-11-19  2018-11-19  122.180000  119.769997  121.629997  120.309998   \n",
       "2018-11-20  2018-11-20  119.489998  116.699997  118.489998  117.199997   \n",
       "2018-11-21  2018-11-21  119.510002  117.389999  117.610001  118.570000   \n",
       "2018-11-23  2018-11-23  118.339996  116.910004  118.089996  117.190002   \n",
       "\n",
       "               Volume   Adj Close  year  month  \n",
       "Date                                            \n",
       "2018-11-16  4076300.0  121.570000  2018     11  \n",
       "2018-11-19  4131200.0  120.309998  2018     11  \n",
       "2018-11-20  6233800.0  117.199997  2018     11  \n",
       "2018-11-21  5335800.0  118.570000  2018     11  \n",
       "2018-11-23  2334700.0  117.190002  2018     11  "
      ]
     },
     "execution_count": 12,
     "metadata": {},
     "output_type": "execute_result"
    }
   ],
   "source": [
    "valid.head()"
   ]
  },
  {
   "cell_type": "code",
   "execution_count": 17,
   "metadata": {},
   "outputs": [
    {
     "data": {
      "text/html": [
       "<iframe id=\"igraph\" scrolling=\"no\" style=\"border:none;\" seamless=\"seamless\" src=\"https://plot.ly/~gauraz.singh/7.embed\" height=\"525px\" width=\"100%\"></iframe>"
      ],
      "text/plain": [
       "<plotly.tools.PlotlyDisplay object>"
      ]
     },
     "execution_count": 17,
     "metadata": {},
     "output_type": "execute_result"
    }
   ],
   "source": [
    "trace0 = go.Scatter(x = train.index, y=train['Adj Close'], mode = 'lines', name ='Train')\n",
    "trace1 = go.Scatter(x = valid.index, y=valid['Adj Close'], mode = 'lines', name = 'Valid')\n",
    "data = [trace0, trace1]\n",
    "layout = dict(title = 'Train and Validation',\n",
    "              xaxis = dict(title = 'Date'),\n",
    "              yaxis = dict(title = 'Adj Close'),\n",
    "              )\n",
    "fig = dict(data=data, layout=layout)\n",
    "py.iplot(fig, filename='trainvalid')\n"
   ]
  },
  {
   "cell_type": "code",
   "execution_count": 18,
   "metadata": {},
   "outputs": [
    {
     "name": "stdout",
     "output_type": "stream",
     "text": [
      "                  Date        High         Low        Open       Close  \\\n",
      "Date                                                                     \n",
      "2018-11-16  2018-11-16  121.849998  120.540001  120.889999  121.570000   \n",
      "2018-11-19  2018-11-19  122.180000  119.769997  121.629997  120.309998   \n",
      "2018-11-20  2018-11-20  119.489998  116.699997  118.489998  117.199997   \n",
      "2018-11-21  2018-11-21  119.510002  117.389999  117.610001  118.570000   \n",
      "2018-11-23  2018-11-23  118.339996  116.910004  118.089996  117.190002   \n",
      "2018-11-26  2018-11-26  120.250000  118.059998  118.370003  119.559998   \n",
      "2018-11-27  2018-11-27  120.040001  118.370003  118.379997  120.029999   \n",
      "2018-11-28  2018-11-28  123.089996  120.220001  121.010002  123.000000   \n",
      "2018-11-29  2018-11-29  123.120003  121.400002  122.440002  121.480003   \n",
      "2018-11-30  2018-11-30  124.690002  121.480003  121.660004  124.269997   \n",
      "2018-12-03  2018-12-03  126.589996  124.360001  125.669998  125.309998   \n",
      "2018-12-04  2018-12-04  124.919998  121.330002  124.489998  121.599998   \n",
      "2018-12-06  2018-12-06  123.910004  119.300003  119.720001  123.910004   \n",
      "2018-12-07  2018-12-07  124.050003  118.870003  123.900002  119.339996   \n",
      "2018-12-10  2018-12-10  121.680000  118.519997  119.739998  121.129997   \n",
      "2018-12-11  2018-12-11  123.809998  120.000000  123.250000  120.889999   \n",
      "2018-12-12  2018-12-12  122.879997  121.000000  122.510002  121.160004   \n",
      "2018-12-13  2018-12-13  121.790001  120.169998  121.260002  120.730003   \n",
      "2018-12-14  2018-12-14  121.110001  119.440002  119.500000  119.900002   \n",
      "2018-12-17  2018-12-17  119.779999  115.070000  119.070000  116.099998   \n",
      "2018-12-18  2018-12-18  118.230003  116.019997  116.900002  116.650002   \n",
      "2018-12-19  2018-12-19  120.269997  115.970001  117.150002  116.430000   \n",
      "2018-12-20  2018-12-20  116.449997  111.699997  115.699997  113.019997   \n",
      "2018-12-21  2018-12-21  115.279999  110.440002  112.500000  110.940002   \n",
      "2018-12-24  2018-12-24  111.000000  107.500000  109.900002  107.570000   \n",
      "2018-12-26  2018-12-26  111.389999  105.940002  108.000000  111.389999   \n",
      "2018-12-27  2018-12-27  113.779999  109.470001  109.989998  113.779999   \n",
      "2018-12-28  2018-12-28  114.800003  112.500000  114.220001  113.029999   \n",
      "2018-12-31  2018-12-31  114.349998  112.419998  113.330002  113.669998   \n",
      "2019-01-02  2019-01-02  115.980003  111.690002  112.010002  115.209999   \n",
      "2019-01-03  2019-01-03  114.879997  112.690002  114.529999  112.910004   \n",
      "2019-01-04  2019-01-04  117.489998  114.440002  114.910004  117.320000   \n",
      "2019-01-07  2019-01-07  118.830002  116.669998  117.500000  118.150002   \n",
      "2019-01-08  2019-01-08  120.570000  118.980003  119.660004  119.830002   \n",
      "2019-01-09  2019-01-09  121.400002  119.870003  120.910004  120.690002   \n",
      "2019-01-10  2019-01-10  121.860001  119.949997  120.080002  121.790001   \n",
      "2019-01-11  2019-01-11  121.620003  120.199997  121.580002  121.459999   \n",
      "2019-01-14  2019-01-14  120.650002  119.760002  120.510002  120.389999   \n",
      "2019-01-15  2019-01-15  121.930000  120.820000  120.959999  121.730003   \n",
      "2019-01-16  2019-01-16  122.000000  120.830002  121.580002  121.620003   \n",
      "2019-01-17  2019-01-17  122.410004  120.550003  120.559998  122.190002   \n",
      "2019-01-18  2019-01-18  124.720001  122.709999  123.269997  123.820000   \n",
      "2019-01-22  2019-01-22  123.800003  121.540001  123.300003  122.519997   \n",
      "2019-01-23  2019-01-23  135.000000  130.309998  131.369995  132.889999   \n",
      "2019-01-24  2019-01-24  133.210007  131.429993  132.630005  132.529999   \n",
      "2019-01-25  2019-01-25  134.440002  132.429993  132.869995  133.970001   \n",
      "2019-01-28  2019-01-28  134.809998  132.580002  133.100006  134.270004   \n",
      "2019-01-29  2019-01-29  135.410004  133.600006  134.289993  134.330002   \n",
      "2019-01-30  2019-01-30  135.029999  133.250000  134.000000  134.380005   \n",
      "2019-01-31  2019-01-31  134.720001  133.740005  134.449997  134.419998   \n",
      "\n",
      "                Volume   Adj Close  year  month  moving_average_forecast  \n",
      "Date                                                                      \n",
      "2018-11-16   4076300.0  121.570000  2018     11                121.93857  \n",
      "2018-11-19   4131200.0  120.309998  2018     11                121.93857  \n",
      "2018-11-20   6233800.0  117.199997  2018     11                121.93857  \n",
      "2018-11-21   5335800.0  118.570000  2018     11                121.93857  \n",
      "2018-11-23   2334700.0  117.190002  2018     11                121.93857  \n",
      "2018-11-26   5011100.0  119.559998  2018     11                121.93857  \n",
      "2018-11-27   4903800.0  120.029999  2018     11                121.93857  \n",
      "2018-11-28   5104500.0  123.000000  2018     11                121.93857  \n",
      "2018-11-29   5200100.0  121.480003  2018     11                121.93857  \n",
      "2018-11-30   7251600.0  124.269997  2018     11                121.93857  \n",
      "2018-12-03   5846400.0  125.309998  2018     12                121.93857  \n",
      "2018-12-04   6000700.0  121.599998  2018     12                121.93857  \n",
      "2018-12-06   6938000.0  123.910004  2018     12                121.93857  \n",
      "2018-12-07   7019600.0  119.339996  2018     12                121.93857  \n",
      "2018-12-10   6549500.0  121.129997  2018     12                121.93857  \n",
      "2018-12-11   5043100.0  120.889999  2018     12                121.93857  \n",
      "2018-12-12   3560500.0  121.160004  2018     12                121.93857  \n",
      "2018-12-13   3993600.0  120.730003  2018     12                121.93857  \n",
      "2018-12-14   4554200.0  119.900002  2018     12                121.93857  \n",
      "2018-12-17   7374500.0  116.099998  2018     12                121.93857  \n",
      "2018-12-18   6290200.0  116.650002  2018     12                121.93857  \n",
      "2018-12-19   6979800.0  116.430000  2018     12                121.93857  \n",
      "2018-12-20   8454400.0  113.019997  2018     12                121.93857  \n",
      "2018-12-21  10386500.0  110.940002  2018     12                121.93857  \n",
      "2018-12-24   3821400.0  107.570000  2018     12                121.93857  \n",
      "2018-12-26   6645800.0  111.389999  2018     12                121.93857  \n",
      "2018-12-27   6045600.0  113.779999  2018     12                121.93857  \n",
      "2018-12-28   5117500.0  113.029999  2018     12                121.93857  \n",
      "2018-12-31   4982800.0  113.669998  2018     12                121.93857  \n",
      "2019-01-02   4239900.0  115.209999  2019      1                121.93857  \n",
      "2019-01-03   4346700.0  112.910004  2019      1                121.93857  \n",
      "2019-01-04   4477800.0  117.320000  2019      1                121.93857  \n",
      "2019-01-07   3751200.0  118.150002  2019      1                121.93857  \n",
      "2019-01-08   4763600.0  119.830002  2019      1                121.93857  \n",
      "2019-01-09   3633700.0  120.690002  2019      1                121.93857  \n",
      "2019-01-10   3910000.0  121.790001  2019      1                121.93857  \n",
      "2019-01-11   3722400.0  121.459999  2019      1                121.93857  \n",
      "2019-01-14   5228700.0  120.389999  2019      1                121.93857  \n",
      "2019-01-15   3507500.0  121.730003  2019      1                121.93857  \n",
      "2019-01-16   3841100.0  121.620003  2019      1                121.93857  \n",
      "2019-01-17   5029900.0  122.190002  2019      1                121.93857  \n",
      "2019-01-18   6008500.0  123.820000  2019      1                121.93857  \n",
      "2019-01-22  10052400.0  122.519997  2019      1                121.93857  \n",
      "2019-01-23  22063700.0  132.889999  2019      1                121.93857  \n",
      "2019-01-24   6322900.0  132.529999  2019      1                121.93857  \n",
      "2019-01-25   5707400.0  133.970001  2019      1                121.93857  \n",
      "2019-01-28   5357700.0  134.270004  2019      1                121.93857  \n",
      "2019-01-29   5037100.0  134.330002  2019      1                121.93857  \n",
      "2019-01-30   4500900.0  134.380005  2019      1                121.93857  \n",
      "2019-01-31   4884000.0  134.419998  2019      1                121.93857  \n"
     ]
    },
    {
     "data": {
      "text/plain": [
       "6.478440016504363"
      ]
     },
     "execution_count": 18,
     "metadata": {},
     "output_type": "execute_result"
    }
   ],
   "source": [
    "#Moving Average\n",
    "#Case 1\n",
    "moving_avg = valid.copy()\n",
    "moving_avg['moving_average_forecast'] = train['Adj Close'].rolling(7).mean().iloc[-1]\n",
    "print(moving_avg)\n",
    "\n",
    "rmse = np.sqrt(mean_squared_error(valid['Adj Close'], moving_avg['moving_average_forecast']))\n",
    "rmse"
   ]
  },
  {
   "cell_type": "code",
   "execution_count": 19,
   "metadata": {},
   "outputs": [
    {
     "name": "stderr",
     "output_type": "stream",
     "text": [
      "D:\\Programs\\Anaconda\\lib\\site-packages\\IPython\\core\\display.py:689: UserWarning:\n",
      "\n",
      "Consider using IPython.display.IFrame instead\n",
      "\n"
     ]
    },
    {
     "data": {
      "text/html": [
       "<iframe id=\"igraph\" scrolling=\"no\" style=\"border:none;\" seamless=\"seamless\" src=\"https://plot.ly/~gauraz.singh/9.embed\" height=\"525px\" width=\"100%\"></iframe>"
      ],
      "text/plain": [
       "<plotly.tools.PlotlyDisplay object>"
      ]
     },
     "execution_count": 19,
     "metadata": {},
     "output_type": "execute_result"
    }
   ],
   "source": [
    "trace0 = go.Scatter(x = train.index, y=train['Adj Close'], mode = 'lines', name ='Train')\n",
    "trace1 = go.Scatter(x = valid.index, y=valid['Adj Close'], mode = 'lines', name = 'Valid')\n",
    "trace2 = go.Scatter(x = valid.index, y=moving_avg['moving_average_forecast'], mode = 'lines', name = 'Moving Average')\n",
    "data = [trace0, trace1, trace2]\n",
    "layout = dict(title = 'Moving Average (Window Size = 7)',\n",
    "              xaxis = dict(title = 'Date'),\n",
    "              yaxis = dict(title = 'Adj Close'),\n",
    "              )\n",
    "fig = dict(data=data, layout=layout)\n",
    "py.iplot(fig, filename='movingavg7')"
   ]
  },
  {
   "cell_type": "code",
   "execution_count": 20,
   "metadata": {
    "scrolled": false
   },
   "outputs": [
    {
     "name": "stdout",
     "output_type": "stream",
     "text": [
      "                  Date        High         Low        Open       Close  \\\n",
      "Date                                                                     \n",
      "2018-11-16  2018-11-16  121.849998  120.540001  120.889999  121.570000   \n",
      "2018-11-19  2018-11-19  122.180000  119.769997  121.629997  120.309998   \n",
      "2018-11-20  2018-11-20  119.489998  116.699997  118.489998  117.199997   \n",
      "2018-11-21  2018-11-21  119.510002  117.389999  117.610001  118.570000   \n",
      "2018-11-23  2018-11-23  118.339996  116.910004  118.089996  117.190002   \n",
      "2018-11-26  2018-11-26  120.250000  118.059998  118.370003  119.559998   \n",
      "2018-11-27  2018-11-27  120.040001  118.370003  118.379997  120.029999   \n",
      "2018-11-28  2018-11-28  123.089996  120.220001  121.010002  123.000000   \n",
      "2018-11-29  2018-11-29  123.120003  121.400002  122.440002  121.480003   \n",
      "2018-11-30  2018-11-30  124.690002  121.480003  121.660004  124.269997   \n",
      "2018-12-03  2018-12-03  126.589996  124.360001  125.669998  125.309998   \n",
      "2018-12-04  2018-12-04  124.919998  121.330002  124.489998  121.599998   \n",
      "2018-12-06  2018-12-06  123.910004  119.300003  119.720001  123.910004   \n",
      "2018-12-07  2018-12-07  124.050003  118.870003  123.900002  119.339996   \n",
      "2018-12-10  2018-12-10  121.680000  118.519997  119.739998  121.129997   \n",
      "2018-12-11  2018-12-11  123.809998  120.000000  123.250000  120.889999   \n",
      "2018-12-12  2018-12-12  122.879997  121.000000  122.510002  121.160004   \n",
      "2018-12-13  2018-12-13  121.790001  120.169998  121.260002  120.730003   \n",
      "2018-12-14  2018-12-14  121.110001  119.440002  119.500000  119.900002   \n",
      "2018-12-17  2018-12-17  119.779999  115.070000  119.070000  116.099998   \n",
      "2018-12-18  2018-12-18  118.230003  116.019997  116.900002  116.650002   \n",
      "2018-12-19  2018-12-19  120.269997  115.970001  117.150002  116.430000   \n",
      "2018-12-20  2018-12-20  116.449997  111.699997  115.699997  113.019997   \n",
      "2018-12-21  2018-12-21  115.279999  110.440002  112.500000  110.940002   \n",
      "2018-12-24  2018-12-24  111.000000  107.500000  109.900002  107.570000   \n",
      "2018-12-26  2018-12-26  111.389999  105.940002  108.000000  111.389999   \n",
      "2018-12-27  2018-12-27  113.779999  109.470001  109.989998  113.779999   \n",
      "2018-12-28  2018-12-28  114.800003  112.500000  114.220001  113.029999   \n",
      "2018-12-31  2018-12-31  114.349998  112.419998  113.330002  113.669998   \n",
      "2019-01-02  2019-01-02  115.980003  111.690002  112.010002  115.209999   \n",
      "2019-01-03  2019-01-03  114.879997  112.690002  114.529999  112.910004   \n",
      "2019-01-04  2019-01-04  117.489998  114.440002  114.910004  117.320000   \n",
      "2019-01-07  2019-01-07  118.830002  116.669998  117.500000  118.150002   \n",
      "2019-01-08  2019-01-08  120.570000  118.980003  119.660004  119.830002   \n",
      "2019-01-09  2019-01-09  121.400002  119.870003  120.910004  120.690002   \n",
      "2019-01-10  2019-01-10  121.860001  119.949997  120.080002  121.790001   \n",
      "2019-01-11  2019-01-11  121.620003  120.199997  121.580002  121.459999   \n",
      "2019-01-14  2019-01-14  120.650002  119.760002  120.510002  120.389999   \n",
      "2019-01-15  2019-01-15  121.930000  120.820000  120.959999  121.730003   \n",
      "2019-01-16  2019-01-16  122.000000  120.830002  121.580002  121.620003   \n",
      "2019-01-17  2019-01-17  122.410004  120.550003  120.559998  122.190002   \n",
      "2019-01-18  2019-01-18  124.720001  122.709999  123.269997  123.820000   \n",
      "2019-01-22  2019-01-22  123.800003  121.540001  123.300003  122.519997   \n",
      "2019-01-23  2019-01-23  135.000000  130.309998  131.369995  132.889999   \n",
      "2019-01-24  2019-01-24  133.210007  131.429993  132.630005  132.529999   \n",
      "2019-01-25  2019-01-25  134.440002  132.429993  132.869995  133.970001   \n",
      "2019-01-28  2019-01-28  134.809998  132.580002  133.100006  134.270004   \n",
      "2019-01-29  2019-01-29  135.410004  133.600006  134.289993  134.330002   \n",
      "2019-01-30  2019-01-30  135.029999  133.250000  134.000000  134.380005   \n",
      "2019-01-31  2019-01-31  134.720001  133.740005  134.449997  134.419998   \n",
      "\n",
      "                Volume   Adj Close  year  month  moving_average_forecast  \n",
      "Date                                                                      \n",
      "2018-11-16   4076300.0  121.570000  2018     11               121.422099  \n",
      "2018-11-19   4131200.0  120.309998  2018     11               121.422099  \n",
      "2018-11-20   6233800.0  117.199997  2018     11               121.422099  \n",
      "2018-11-21   5335800.0  118.570000  2018     11               121.422099  \n",
      "2018-11-23   2334700.0  117.190002  2018     11               121.422099  \n",
      "2018-11-26   5011100.0  119.559998  2018     11               121.422099  \n",
      "2018-11-27   4903800.0  120.029999  2018     11               121.422099  \n",
      "2018-11-28   5104500.0  123.000000  2018     11               121.422099  \n",
      "2018-11-29   5200100.0  121.480003  2018     11               121.422099  \n",
      "2018-11-30   7251600.0  124.269997  2018     11               121.422099  \n",
      "2018-12-03   5846400.0  125.309998  2018     12               121.422099  \n",
      "2018-12-04   6000700.0  121.599998  2018     12               121.422099  \n",
      "2018-12-06   6938000.0  123.910004  2018     12               121.422099  \n",
      "2018-12-07   7019600.0  119.339996  2018     12               121.422099  \n",
      "2018-12-10   6549500.0  121.129997  2018     12               121.422099  \n",
      "2018-12-11   5043100.0  120.889999  2018     12               121.422099  \n",
      "2018-12-12   3560500.0  121.160004  2018     12               121.422099  \n",
      "2018-12-13   3993600.0  120.730003  2018     12               121.422099  \n",
      "2018-12-14   4554200.0  119.900002  2018     12               121.422099  \n",
      "2018-12-17   7374500.0  116.099998  2018     12               121.422099  \n",
      "2018-12-18   6290200.0  116.650002  2018     12               121.422099  \n",
      "2018-12-19   6979800.0  116.430000  2018     12               121.422099  \n",
      "2018-12-20   8454400.0  113.019997  2018     12               121.422099  \n",
      "2018-12-21  10386500.0  110.940002  2018     12               121.422099  \n",
      "2018-12-24   3821400.0  107.570000  2018     12               121.422099  \n",
      "2018-12-26   6645800.0  111.389999  2018     12               121.422099  \n",
      "2018-12-27   6045600.0  113.779999  2018     12               121.422099  \n",
      "2018-12-28   5117500.0  113.029999  2018     12               121.422099  \n",
      "2018-12-31   4982800.0  113.669998  2018     12               121.422099  \n",
      "2019-01-02   4239900.0  115.209999  2019      1               121.422099  \n",
      "2019-01-03   4346700.0  112.910004  2019      1               121.422099  \n",
      "2019-01-04   4477800.0  117.320000  2019      1               121.422099  \n",
      "2019-01-07   3751200.0  118.150002  2019      1               121.422099  \n",
      "2019-01-08   4763600.0  119.830002  2019      1               121.422099  \n",
      "2019-01-09   3633700.0  120.690002  2019      1               121.422099  \n",
      "2019-01-10   3910000.0  121.790001  2019      1               121.422099  \n",
      "2019-01-11   3722400.0  121.459999  2019      1               121.422099  \n",
      "2019-01-14   5228700.0  120.389999  2019      1               121.422099  \n",
      "2019-01-15   3507500.0  121.730003  2019      1               121.422099  \n",
      "2019-01-16   3841100.0  121.620003  2019      1               121.422099  \n",
      "2019-01-17   5029900.0  122.190002  2019      1               121.422099  \n",
      "2019-01-18   6008500.0  123.820000  2019      1               121.422099  \n",
      "2019-01-22  10052400.0  122.519997  2019      1               121.422099  \n",
      "2019-01-23  22063700.0  132.889999  2019      1               121.422099  \n",
      "2019-01-24   6322900.0  132.529999  2019      1               121.422099  \n",
      "2019-01-25   5707400.0  133.970001  2019      1               121.422099  \n",
      "2019-01-28   5357700.0  134.270004  2019      1               121.422099  \n",
      "2019-01-29   5037100.0  134.330002  2019      1               121.422099  \n",
      "2019-01-30   4500900.0  134.380005  2019      1               121.422099  \n",
      "2019-01-31   4884000.0  134.419998  2019      1               121.422099  \n"
     ]
    },
    {
     "data": {
      "text/plain": [
       "6.417780171353913"
      ]
     },
     "execution_count": 20,
     "metadata": {},
     "output_type": "execute_result"
    }
   ],
   "source": [
    "#Moving Average - Case 2\n",
    "moving_avg = valid.copy()\n",
    "moving_avg['moving_average_forecast'] = train['Adj Close'].rolling(20).mean().iloc[-1]\n",
    "print(moving_avg)\n",
    "rmse = np.sqrt(mean_squared_error(valid['Adj Close'], moving_avg['moving_average_forecast']))\n",
    "rmse"
   ]
  },
  {
   "cell_type": "code",
   "execution_count": 21,
   "metadata": {},
   "outputs": [
    {
     "name": "stderr",
     "output_type": "stream",
     "text": [
      "D:\\Programs\\Anaconda\\lib\\site-packages\\IPython\\core\\display.py:689: UserWarning:\n",
      "\n",
      "Consider using IPython.display.IFrame instead\n",
      "\n"
     ]
    },
    {
     "data": {
      "text/html": [
       "<iframe id=\"igraph\" scrolling=\"no\" style=\"border:none;\" seamless=\"seamless\" src=\"https://plot.ly/~gauraz.singh/13.embed\" height=\"525px\" width=\"100%\"></iframe>"
      ],
      "text/plain": [
       "<plotly.tools.PlotlyDisplay object>"
      ]
     },
     "execution_count": 21,
     "metadata": {},
     "output_type": "execute_result"
    }
   ],
   "source": [
    "#Moving Average - Case 2 Plot\n",
    "trace0 = go.Scatter(x = train.index, y=train['Adj Close'], mode = 'lines', name ='Train')\n",
    "trace1 = go.Scatter(x = valid.index, y=valid['Adj Close'], mode = 'lines', name = 'Valid')\n",
    "trace2 = go.Scatter(x = valid.index, y=moving_avg['moving_average_forecast'], mode = 'lines', name = 'Moving Average')\n",
    "data = [trace0, trace1, trace2]\n",
    "layout = dict(title = 'Moving Average (Window Size = 20)',\n",
    "              xaxis = dict(title = 'Date'),\n",
    "              yaxis = dict(title = 'Adj Close'),\n",
    "              )\n",
    "fig = dict(data=data, layout=layout)\n",
    "py.iplot(fig, filename='movingavg20')"
   ]
  },
  {
   "cell_type": "code",
   "execution_count": 22,
   "metadata": {},
   "outputs": [
    {
     "name": "stdout",
     "output_type": "stream",
     "text": [
      "                  Date        High         Low        Open       Close  \\\n",
      "Date                                                                     \n",
      "2018-11-16  2018-11-16  121.849998  120.540001  120.889999  121.570000   \n",
      "2018-11-19  2018-11-19  122.180000  119.769997  121.629997  120.309998   \n",
      "2018-11-20  2018-11-20  119.489998  116.699997  118.489998  117.199997   \n",
      "2018-11-21  2018-11-21  119.510002  117.389999  117.610001  118.570000   \n",
      "2018-11-23  2018-11-23  118.339996  116.910004  118.089996  117.190002   \n",
      "2018-11-26  2018-11-26  120.250000  118.059998  118.370003  119.559998   \n",
      "2018-11-27  2018-11-27  120.040001  118.370003  118.379997  120.029999   \n",
      "2018-11-28  2018-11-28  123.089996  120.220001  121.010002  123.000000   \n",
      "2018-11-29  2018-11-29  123.120003  121.400002  122.440002  121.480003   \n",
      "2018-11-30  2018-11-30  124.690002  121.480003  121.660004  124.269997   \n",
      "2018-12-03  2018-12-03  126.589996  124.360001  125.669998  125.309998   \n",
      "2018-12-04  2018-12-04  124.919998  121.330002  124.489998  121.599998   \n",
      "2018-12-06  2018-12-06  123.910004  119.300003  119.720001  123.910004   \n",
      "2018-12-07  2018-12-07  124.050003  118.870003  123.900002  119.339996   \n",
      "2018-12-10  2018-12-10  121.680000  118.519997  119.739998  121.129997   \n",
      "2018-12-11  2018-12-11  123.809998  120.000000  123.250000  120.889999   \n",
      "2018-12-12  2018-12-12  122.879997  121.000000  122.510002  121.160004   \n",
      "2018-12-13  2018-12-13  121.790001  120.169998  121.260002  120.730003   \n",
      "2018-12-14  2018-12-14  121.110001  119.440002  119.500000  119.900002   \n",
      "2018-12-17  2018-12-17  119.779999  115.070000  119.070000  116.099998   \n",
      "2018-12-18  2018-12-18  118.230003  116.019997  116.900002  116.650002   \n",
      "2018-12-19  2018-12-19  120.269997  115.970001  117.150002  116.430000   \n",
      "2018-12-20  2018-12-20  116.449997  111.699997  115.699997  113.019997   \n",
      "2018-12-21  2018-12-21  115.279999  110.440002  112.500000  110.940002   \n",
      "2018-12-24  2018-12-24  111.000000  107.500000  109.900002  107.570000   \n",
      "2018-12-26  2018-12-26  111.389999  105.940002  108.000000  111.389999   \n",
      "2018-12-27  2018-12-27  113.779999  109.470001  109.989998  113.779999   \n",
      "2018-12-28  2018-12-28  114.800003  112.500000  114.220001  113.029999   \n",
      "2018-12-31  2018-12-31  114.349998  112.419998  113.330002  113.669998   \n",
      "2019-01-02  2019-01-02  115.980003  111.690002  112.010002  115.209999   \n",
      "2019-01-03  2019-01-03  114.879997  112.690002  114.529999  112.910004   \n",
      "2019-01-04  2019-01-04  117.489998  114.440002  114.910004  117.320000   \n",
      "2019-01-07  2019-01-07  118.830002  116.669998  117.500000  118.150002   \n",
      "2019-01-08  2019-01-08  120.570000  118.980003  119.660004  119.830002   \n",
      "2019-01-09  2019-01-09  121.400002  119.870003  120.910004  120.690002   \n",
      "2019-01-10  2019-01-10  121.860001  119.949997  120.080002  121.790001   \n",
      "2019-01-11  2019-01-11  121.620003  120.199997  121.580002  121.459999   \n",
      "2019-01-14  2019-01-14  120.650002  119.760002  120.510002  120.389999   \n",
      "2019-01-15  2019-01-15  121.930000  120.820000  120.959999  121.730003   \n",
      "2019-01-16  2019-01-16  122.000000  120.830002  121.580002  121.620003   \n",
      "2019-01-17  2019-01-17  122.410004  120.550003  120.559998  122.190002   \n",
      "2019-01-18  2019-01-18  124.720001  122.709999  123.269997  123.820000   \n",
      "2019-01-22  2019-01-22  123.800003  121.540001  123.300003  122.519997   \n",
      "2019-01-23  2019-01-23  135.000000  130.309998  131.369995  132.889999   \n",
      "2019-01-24  2019-01-24  133.210007  131.429993  132.630005  132.529999   \n",
      "2019-01-25  2019-01-25  134.440002  132.429993  132.869995  133.970001   \n",
      "2019-01-28  2019-01-28  134.809998  132.580002  133.100006  134.270004   \n",
      "2019-01-29  2019-01-29  135.410004  133.600006  134.289993  134.330002   \n",
      "2019-01-30  2019-01-30  135.029999  133.250000  134.000000  134.380005   \n",
      "2019-01-31  2019-01-31  134.720001  133.740005  134.449997  134.419998   \n",
      "\n",
      "                Volume   Adj Close  year  month  moving_average_forecast  \n",
      "Date                                                                      \n",
      "2018-11-16   4076300.0  121.570000  2018     11               135.701297  \n",
      "2018-11-19   4131200.0  120.309998  2018     11               135.701297  \n",
      "2018-11-20   6233800.0  117.199997  2018     11               135.701297  \n",
      "2018-11-21   5335800.0  118.570000  2018     11               135.701297  \n",
      "2018-11-23   2334700.0  117.190002  2018     11               135.701297  \n",
      "2018-11-26   5011100.0  119.559998  2018     11               135.701297  \n",
      "2018-11-27   4903800.0  120.029999  2018     11               135.701297  \n",
      "2018-11-28   5104500.0  123.000000  2018     11               135.701297  \n",
      "2018-11-29   5200100.0  121.480003  2018     11               135.701297  \n",
      "2018-11-30   7251600.0  124.269997  2018     11               135.701297  \n",
      "2018-12-03   5846400.0  125.309998  2018     12               135.701297  \n",
      "2018-12-04   6000700.0  121.599998  2018     12               135.701297  \n",
      "2018-12-06   6938000.0  123.910004  2018     12               135.701297  \n",
      "2018-12-07   7019600.0  119.339996  2018     12               135.701297  \n",
      "2018-12-10   6549500.0  121.129997  2018     12               135.701297  \n",
      "2018-12-11   5043100.0  120.889999  2018     12               135.701297  \n",
      "2018-12-12   3560500.0  121.160004  2018     12               135.701297  \n",
      "2018-12-13   3993600.0  120.730003  2018     12               135.701297  \n",
      "2018-12-14   4554200.0  119.900002  2018     12               135.701297  \n",
      "2018-12-17   7374500.0  116.099998  2018     12               135.701297  \n",
      "2018-12-18   6290200.0  116.650002  2018     12               135.701297  \n",
      "2018-12-19   6979800.0  116.430000  2018     12               135.701297  \n",
      "2018-12-20   8454400.0  113.019997  2018     12               135.701297  \n",
      "2018-12-21  10386500.0  110.940002  2018     12               135.701297  \n",
      "2018-12-24   3821400.0  107.570000  2018     12               135.701297  \n",
      "2018-12-26   6645800.0  111.389999  2018     12               135.701297  \n",
      "2018-12-27   6045600.0  113.779999  2018     12               135.701297  \n",
      "2018-12-28   5117500.0  113.029999  2018     12               135.701297  \n",
      "2018-12-31   4982800.0  113.669998  2018     12               135.701297  \n",
      "2019-01-02   4239900.0  115.209999  2019      1               135.701297  \n",
      "2019-01-03   4346700.0  112.910004  2019      1               135.701297  \n",
      "2019-01-04   4477800.0  117.320000  2019      1               135.701297  \n",
      "2019-01-07   3751200.0  118.150002  2019      1               135.701297  \n",
      "2019-01-08   4763600.0  119.830002  2019      1               135.701297  \n",
      "2019-01-09   3633700.0  120.690002  2019      1               135.701297  \n",
      "2019-01-10   3910000.0  121.790001  2019      1               135.701297  \n",
      "2019-01-11   3722400.0  121.459999  2019      1               135.701297  \n",
      "2019-01-14   5228700.0  120.389999  2019      1               135.701297  \n",
      "2019-01-15   3507500.0  121.730003  2019      1               135.701297  \n",
      "2019-01-16   3841100.0  121.620003  2019      1               135.701297  \n",
      "2019-01-17   5029900.0  122.190002  2019      1               135.701297  \n",
      "2019-01-18   6008500.0  123.820000  2019      1               135.701297  \n",
      "2019-01-22  10052400.0  122.519997  2019      1               135.701297  \n",
      "2019-01-23  22063700.0  132.889999  2019      1               135.701297  \n",
      "2019-01-24   6322900.0  132.529999  2019      1               135.701297  \n",
      "2019-01-25   5707400.0  133.970001  2019      1               135.701297  \n",
      "2019-01-28   5357700.0  134.270004  2019      1               135.701297  \n",
      "2019-01-29   5037100.0  134.330002  2019      1               135.701297  \n",
      "2019-01-30   4500900.0  134.380005  2019      1               135.701297  \n",
      "2019-01-31   4884000.0  134.419998  2019      1               135.701297  \n"
     ]
    },
    {
     "data": {
      "text/plain": [
       "16.103939522264337"
      ]
     },
     "execution_count": 22,
     "metadata": {},
     "output_type": "execute_result"
    }
   ],
   "source": [
    "#Moving Average - Case 3\n",
    "moving_avg = valid.copy()\n",
    "moving_avg['moving_average_forecast']= train['Adj Close'].rolling(50).mean().iloc[-1]\n",
    "print(moving_avg)\n",
    "\n",
    "rmse = np.sqrt(mean_squared_error(valid['Adj Close'], moving_avg['moving_average_forecast']))\n",
    "rmse"
   ]
  },
  {
   "cell_type": "code",
   "execution_count": 23,
   "metadata": {},
   "outputs": [
    {
     "name": "stderr",
     "output_type": "stream",
     "text": [
      "D:\\Programs\\Anaconda\\lib\\site-packages\\IPython\\core\\display.py:689: UserWarning:\n",
      "\n",
      "Consider using IPython.display.IFrame instead\n",
      "\n"
     ]
    },
    {
     "data": {
      "text/html": [
       "<iframe id=\"igraph\" scrolling=\"no\" style=\"border:none;\" seamless=\"seamless\" src=\"https://plot.ly/~gauraz.singh/15.embed\" height=\"525px\" width=\"100%\"></iframe>"
      ],
      "text/plain": [
       "<plotly.tools.PlotlyDisplay object>"
      ]
     },
     "execution_count": 23,
     "metadata": {},
     "output_type": "execute_result"
    }
   ],
   "source": [
    "trace0 = go.Scatter(x = train.index, y=train['Adj Close'], mode = 'lines', name ='Train')\n",
    "trace1 = go.Scatter(x = valid.index, y=valid['Adj Close'], mode = 'lines', name = 'Valid')\n",
    "trace2 = go.Scatter(x = valid.index, y=moving_avg['moving_average_forecast'], mode = 'lines', name = 'Moving Average')\n",
    "data = [trace0, trace1, trace2]\n",
    "layout = dict(title = 'Moving Average (Window Size = 50)',\n",
    "              xaxis = dict(title = 'Date'),\n",
    "              yaxis = dict(title = 'Adj Close'),\n",
    "              )\n",
    "fig = dict(data=data, layout=layout)\n",
    "py.iplot(fig, filename='movingavg50')"
   ]
  },
  {
   "cell_type": "code",
   "execution_count": 1,
   "metadata": {},
   "outputs": [],
   "source": [
    "#HOLT WINTER FORECASTING\n",
    "from statsmodels.tsa.holtwinters import Holt, ExponentialSmoothing"
   ]
  },
  {
   "cell_type": "code",
   "execution_count": 13,
   "metadata": {},
   "outputs": [
    {
     "name": "stdout",
     "output_type": "stream",
     "text": [
      "                  Date        High         Low        Open       Close  \\\n",
      "Date                                                                     \n",
      "2018-11-16  2018-11-16  121.849998  120.540001  120.889999  121.570000   \n",
      "2018-11-19  2018-11-19  122.180000  119.769997  121.629997  120.309998   \n",
      "2018-11-20  2018-11-20  119.489998  116.699997  118.489998  117.199997   \n",
      "2018-11-21  2018-11-21  119.510002  117.389999  117.610001  118.570000   \n",
      "2018-11-23  2018-11-23  118.339996  116.910004  118.089996  117.190002   \n",
      "2018-11-26  2018-11-26  120.250000  118.059998  118.370003  119.559998   \n",
      "2018-11-27  2018-11-27  120.040001  118.370003  118.379997  120.029999   \n",
      "2018-11-28  2018-11-28  123.089996  120.220001  121.010002  123.000000   \n",
      "2018-11-29  2018-11-29  123.120003  121.400002  122.440002  121.480003   \n",
      "2018-11-30  2018-11-30  124.690002  121.480003  121.660004  124.269997   \n",
      "2018-12-03  2018-12-03  126.589996  124.360001  125.669998  125.309998   \n",
      "2018-12-04  2018-12-04  124.919998  121.330002  124.489998  121.599998   \n",
      "2018-12-06  2018-12-06  123.910004  119.300003  119.720001  123.910004   \n",
      "2018-12-07  2018-12-07  124.050003  118.870003  123.900002  119.339996   \n",
      "2018-12-10  2018-12-10  121.680000  118.519997  119.739998  121.129997   \n",
      "2018-12-11  2018-12-11  123.809998  120.000000  123.250000  120.889999   \n",
      "2018-12-12  2018-12-12  122.879997  121.000000  122.510002  121.160004   \n",
      "2018-12-13  2018-12-13  121.790001  120.169998  121.260002  120.730003   \n",
      "2018-12-14  2018-12-14  121.110001  119.440002  119.500000  119.900002   \n",
      "2018-12-17  2018-12-17  119.779999  115.070000  119.070000  116.099998   \n",
      "2018-12-18  2018-12-18  118.230003  116.019997  116.900002  116.650002   \n",
      "2018-12-19  2018-12-19  120.269997  115.970001  117.150002  116.430000   \n",
      "2018-12-20  2018-12-20  116.449997  111.699997  115.699997  113.019997   \n",
      "2018-12-21  2018-12-21  115.279999  110.440002  112.500000  110.940002   \n",
      "2018-12-24  2018-12-24  111.000000  107.500000  109.900002  107.570000   \n",
      "2018-12-26  2018-12-26  111.389999  105.940002  108.000000  111.389999   \n",
      "2018-12-27  2018-12-27  113.779999  109.470001  109.989998  113.779999   \n",
      "2018-12-28  2018-12-28  114.800003  112.500000  114.220001  113.029999   \n",
      "2018-12-31  2018-12-31  114.349998  112.419998  113.330002  113.669998   \n",
      "2019-01-02  2019-01-02  115.980003  111.690002  112.010002  115.209999   \n",
      "2019-01-03  2019-01-03  114.879997  112.690002  114.529999  112.910004   \n",
      "2019-01-04  2019-01-04  117.489998  114.440002  114.910004  117.320000   \n",
      "2019-01-07  2019-01-07  118.830002  116.669998  117.500000  118.150002   \n",
      "2019-01-08  2019-01-08  120.570000  118.980003  119.660004  119.830002   \n",
      "2019-01-09  2019-01-09  121.400002  119.870003  120.910004  120.690002   \n",
      "2019-01-10  2019-01-10  121.860001  119.949997  120.080002  121.790001   \n",
      "2019-01-11  2019-01-11  121.620003  120.199997  121.580002  121.459999   \n",
      "2019-01-14  2019-01-14  120.650002  119.760002  120.510002  120.389999   \n",
      "2019-01-15  2019-01-15  121.930000  120.820000  120.959999  121.730003   \n",
      "2019-01-16  2019-01-16  122.000000  120.830002  121.580002  121.620003   \n",
      "2019-01-17  2019-01-17  122.410004  120.550003  120.559998  122.190002   \n",
      "2019-01-18  2019-01-18  124.720001  122.709999  123.269997  123.820000   \n",
      "2019-01-22  2019-01-22  123.800003  121.540001  123.300003  122.519997   \n",
      "2019-01-23  2019-01-23  135.000000  130.309998  131.369995  132.889999   \n",
      "2019-01-24  2019-01-24  133.210007  131.429993  132.630005  132.529999   \n",
      "2019-01-25  2019-01-25  134.440002  132.429993  132.869995  133.970001   \n",
      "2019-01-28  2019-01-28  134.809998  132.580002  133.100006  134.270004   \n",
      "2019-01-29  2019-01-29  135.410004  133.600006  134.289993  134.330002   \n",
      "2019-01-30  2019-01-30  135.029999  133.250000  134.000000  134.380005   \n",
      "2019-01-31  2019-01-31  134.720001  133.740005  134.449997  134.419998   \n",
      "\n",
      "                Volume   Adj Close  year  month  Holt_Winter  \n",
      "Date                                                          \n",
      "2018-11-16   4076300.0  121.570000  2018     11   119.535821  \n",
      "2018-11-19   4131200.0  120.309998  2018     11   117.332688  \n",
      "2018-11-20   6233800.0  117.199997  2018     11   116.049012  \n",
      "2018-11-21   5335800.0  118.570000  2018     11   114.763620  \n",
      "2018-11-23   2334700.0  117.190002  2018     11   113.948185  \n",
      "2018-11-26   5011100.0  119.559998  2018     11   113.091828  \n",
      "2018-11-27   4903800.0  120.029999  2018     11   112.309851  \n",
      "2018-11-28   5104500.0  123.000000  2018     11   111.984182  \n",
      "2018-11-29   5200100.0  121.480003  2018     11   111.466808  \n",
      "2018-11-30   7251600.0  124.269997  2018     11   110.781824  \n",
      "2018-12-03   5846400.0  125.309998  2018     12   109.828363  \n",
      "2018-12-04   6000700.0  121.599998  2018     12   108.782159  \n",
      "2018-12-06   6938000.0  123.910004  2018     12   107.654658  \n",
      "2018-12-07   7019600.0  119.339996  2018     12   105.900276  \n",
      "2018-12-10   6549500.0  121.129997  2018     12   104.447311  \n",
      "2018-12-11   5043100.0  120.889999  2018     12   102.611595  \n",
      "2018-12-12   3560500.0  121.160004  2018     12   100.350036  \n",
      "2018-12-13   3993600.0  120.730003  2018     12    98.518414  \n",
      "2018-12-14   4554200.0  119.900002  2018     12    96.769915  \n",
      "2018-12-17   7374500.0  116.099998  2018     12    95.641323  \n",
      "2018-12-18   6290200.0  116.650002  2018     12    94.267761  \n",
      "2018-12-19   6979800.0  116.430000  2018     12    93.871012  \n",
      "2018-12-20   8454400.0  113.019997  2018     12    93.056243  \n",
      "2018-12-21  10386500.0  110.940002  2018     12    92.579807  \n",
      "2018-12-24   3821400.0  107.570000  2018     12    92.298370  \n",
      "2018-12-26   6645800.0  111.389999  2018     12    91.967171  \n",
      "2018-12-27   6045600.0  113.779999  2018     12    91.377442  \n",
      "2018-12-28   5117500.0  113.029999  2018     12    91.567356  \n",
      "2018-12-31   4982800.0  113.669998  2018     12    90.091132  \n",
      "2019-01-02   4239900.0  115.209999  2019      1    88.234859  \n",
      "2019-01-03   4346700.0  112.910004  2019      1    85.820076  \n",
      "2019-01-04   4477800.0  117.320000  2019      1    83.224956  \n",
      "2019-01-07   3751200.0  118.150002  2019      1    81.626420  \n",
      "2019-01-08   4763600.0  119.830002  2019      1    79.172125  \n",
      "2019-01-09   3633700.0  120.690002  2019      1    77.324539  \n",
      "2019-01-10   3910000.0  121.790001  2019      1    75.711494  \n",
      "2019-01-11   3722400.0  121.459999  2019      1    73.152202  \n",
      "2019-01-14   5228700.0  120.389999  2019      1    71.412617  \n",
      "2019-01-15   3507500.0  121.730003  2019      1    69.008491  \n",
      "2019-01-16   3841100.0  121.620003  2019      1    67.755285  \n",
      "2019-01-17   5029900.0  122.190002  2019      1    66.657143  \n",
      "2019-01-18   6008500.0  123.820000  2019      1    65.702887  \n",
      "2019-01-22  10052400.0  122.519997  2019      1    65.564930  \n",
      "2019-01-23  22063700.0  132.889999  2019      1    64.985895  \n",
      "2019-01-24   6322900.0  132.529999  2019      1    64.214109  \n",
      "2019-01-25   5707400.0  133.970001  2019      1    63.805462  \n",
      "2019-01-28   5357700.0  134.270004  2019      1    63.706237  \n",
      "2019-01-29   5037100.0  134.330002  2019      1    63.188836  \n",
      "2019-01-30   4500900.0  134.380005  2019      1    63.444333  \n",
      "2019-01-31   4884000.0  134.419998  2019      1    63.449377  \n"
     ]
    }
   ],
   "source": [
    "# Holt-Winter Case 1\n",
    "w_holt = valid.copy()\n",
    "fit1 = ExponentialSmoothing(np.asarray(train['Adj Close']), seasonal_periods= 60, trend = 'add', seasonal=\n",
    "'mul').fit()\n",
    "w_holt['Holt_Winter'] = fit1.forecast(len(valid))\n",
    "print(w_holt)"
   ]
  },
  {
   "cell_type": "code",
   "execution_count": 14,
   "metadata": {},
   "outputs": [
    {
     "data": {
      "text/plain": [
       "37.89556441297522"
      ]
     },
     "execution_count": 14,
     "metadata": {},
     "output_type": "execute_result"
    }
   ],
   "source": [
    "rmse = np.sqrt(mean_squared_error(valid['Adj Close'], w_holt['Holt_Winter']))\n",
    "rmse"
   ]
  },
  {
   "cell_type": "code",
   "execution_count": 16,
   "metadata": {},
   "outputs": [
    {
     "name": "stdout",
     "output_type": "stream",
     "text": [
      "                  Date        High         Low        Open       Close  \\\n",
      "Date                                                                     \n",
      "2018-11-16  2018-11-16  121.849998  120.540001  120.889999  121.570000   \n",
      "2018-11-19  2018-11-19  122.180000  119.769997  121.629997  120.309998   \n",
      "2018-11-20  2018-11-20  119.489998  116.699997  118.489998  117.199997   \n",
      "2018-11-21  2018-11-21  119.510002  117.389999  117.610001  118.570000   \n",
      "2018-11-23  2018-11-23  118.339996  116.910004  118.089996  117.190002   \n",
      "2018-11-26  2018-11-26  120.250000  118.059998  118.370003  119.559998   \n",
      "2018-11-27  2018-11-27  120.040001  118.370003  118.379997  120.029999   \n",
      "2018-11-28  2018-11-28  123.089996  120.220001  121.010002  123.000000   \n",
      "2018-11-29  2018-11-29  123.120003  121.400002  122.440002  121.480003   \n",
      "2018-11-30  2018-11-30  124.690002  121.480003  121.660004  124.269997   \n",
      "2018-12-03  2018-12-03  126.589996  124.360001  125.669998  125.309998   \n",
      "2018-12-04  2018-12-04  124.919998  121.330002  124.489998  121.599998   \n",
      "2018-12-06  2018-12-06  123.910004  119.300003  119.720001  123.910004   \n",
      "2018-12-07  2018-12-07  124.050003  118.870003  123.900002  119.339996   \n",
      "2018-12-10  2018-12-10  121.680000  118.519997  119.739998  121.129997   \n",
      "2018-12-11  2018-12-11  123.809998  120.000000  123.250000  120.889999   \n",
      "2018-12-12  2018-12-12  122.879997  121.000000  122.510002  121.160004   \n",
      "2018-12-13  2018-12-13  121.790001  120.169998  121.260002  120.730003   \n",
      "2018-12-14  2018-12-14  121.110001  119.440002  119.500000  119.900002   \n",
      "2018-12-17  2018-12-17  119.779999  115.070000  119.070000  116.099998   \n",
      "2018-12-18  2018-12-18  118.230003  116.019997  116.900002  116.650002   \n",
      "2018-12-19  2018-12-19  120.269997  115.970001  117.150002  116.430000   \n",
      "2018-12-20  2018-12-20  116.449997  111.699997  115.699997  113.019997   \n",
      "2018-12-21  2018-12-21  115.279999  110.440002  112.500000  110.940002   \n",
      "2018-12-24  2018-12-24  111.000000  107.500000  109.900002  107.570000   \n",
      "2018-12-26  2018-12-26  111.389999  105.940002  108.000000  111.389999   \n",
      "2018-12-27  2018-12-27  113.779999  109.470001  109.989998  113.779999   \n",
      "2018-12-28  2018-12-28  114.800003  112.500000  114.220001  113.029999   \n",
      "2018-12-31  2018-12-31  114.349998  112.419998  113.330002  113.669998   \n",
      "2019-01-02  2019-01-02  115.980003  111.690002  112.010002  115.209999   \n",
      "2019-01-03  2019-01-03  114.879997  112.690002  114.529999  112.910004   \n",
      "2019-01-04  2019-01-04  117.489998  114.440002  114.910004  117.320000   \n",
      "2019-01-07  2019-01-07  118.830002  116.669998  117.500000  118.150002   \n",
      "2019-01-08  2019-01-08  120.570000  118.980003  119.660004  119.830002   \n",
      "2019-01-09  2019-01-09  121.400002  119.870003  120.910004  120.690002   \n",
      "2019-01-10  2019-01-10  121.860001  119.949997  120.080002  121.790001   \n",
      "2019-01-11  2019-01-11  121.620003  120.199997  121.580002  121.459999   \n",
      "2019-01-14  2019-01-14  120.650002  119.760002  120.510002  120.389999   \n",
      "2019-01-15  2019-01-15  121.930000  120.820000  120.959999  121.730003   \n",
      "2019-01-16  2019-01-16  122.000000  120.830002  121.580002  121.620003   \n",
      "2019-01-17  2019-01-17  122.410004  120.550003  120.559998  122.190002   \n",
      "2019-01-18  2019-01-18  124.720001  122.709999  123.269997  123.820000   \n",
      "2019-01-22  2019-01-22  123.800003  121.540001  123.300003  122.519997   \n",
      "2019-01-23  2019-01-23  135.000000  130.309998  131.369995  132.889999   \n",
      "2019-01-24  2019-01-24  133.210007  131.429993  132.630005  132.529999   \n",
      "2019-01-25  2019-01-25  134.440002  132.429993  132.869995  133.970001   \n",
      "2019-01-28  2019-01-28  134.809998  132.580002  133.100006  134.270004   \n",
      "2019-01-29  2019-01-29  135.410004  133.600006  134.289993  134.330002   \n",
      "2019-01-30  2019-01-30  135.029999  133.250000  134.000000  134.380005   \n",
      "2019-01-31  2019-01-31  134.720001  133.740005  134.449997  134.419998   \n",
      "\n",
      "                Volume   Adj Close  year  month  Holt_Winter1  Holt_Winter2  \\\n",
      "Date                                                                          \n",
      "2018-11-16   4076300.0  121.570000  2018     11    119.465233    121.684414   \n",
      "2018-11-19   4131200.0  120.309998  2018     11    117.724368    122.204683   \n",
      "2018-11-20   6233800.0  117.199997  2018     11    116.514993    122.734613   \n",
      "2018-11-21   5335800.0  118.570000  2018     11    114.982378    122.830084   \n",
      "2018-11-23   2334700.0  117.190002  2018     11    114.080569    123.154946   \n",
      "2018-11-26   5011100.0  119.559998  2018     11    112.596855    122.730420   \n",
      "2018-11-27   4903800.0  120.029999  2018     11    109.955384    123.012951   \n",
      "2018-11-28   5104500.0  123.000000  2018     11    108.772440    123.731494   \n",
      "2018-11-29   5200100.0  121.480003  2018     11    107.668143    124.365595   \n",
      "2018-11-30   7251600.0  124.269997  2018     11    106.625502    124.902407   \n",
      "2018-12-03   5846400.0  125.309998  2018     12    104.785092    125.212901   \n",
      "2018-12-04   6000700.0  121.599998  2018     12    102.970388    125.885261   \n",
      "2018-12-06   6938000.0  123.910004  2018     12    101.397809    125.504221   \n",
      "2018-12-07   7019600.0  119.339996  2018     12     99.401920    125.367256   \n",
      "2018-12-10   6549500.0  121.129997  2018     12     97.482194    125.508140   \n",
      "2018-12-11   5043100.0  120.889999  2018     12     96.326524    125.265763   \n",
      "2018-12-12   3560500.0  121.160004  2018     12     95.543018    125.042253   \n",
      "2018-12-13   3993600.0  120.730003  2018     12     94.204175    124.708158   \n",
      "2018-12-14   4554200.0  119.900002  2018     12     93.484559    124.080446   \n",
      "2018-12-17   7374500.0  116.099998  2018     12     92.384518    123.003549   \n",
      "2018-12-18   6290200.0  116.650002  2018     12     92.305245    122.395692   \n",
      "2018-12-19   6979800.0  116.430000  2018     12     92.264427    122.229119   \n",
      "2018-12-20   8454400.0  113.019997  2018     12     91.818874    122.184905   \n",
      "2018-12-21  10386500.0  110.940002  2018     12     91.612852    122.380026   \n",
      "2018-12-24   3821400.0  107.570000  2018     12     91.923330    122.938104   \n",
      "2018-12-26   6645800.0  111.389999  2018     12     91.455774    123.616903   \n",
      "2018-12-27   6045600.0  113.779999  2018     12     91.142266    123.384744   \n",
      "2018-12-28   5117500.0  113.029999  2018     12     91.165182    123.518377   \n",
      "2018-12-31   4982800.0  113.669998  2018     12     90.379879    123.421981   \n",
      "2019-01-02   4239900.0  115.209999  2019      1     90.097664    123.478287   \n",
      "2019-01-03   4346700.0  112.910004  2019      1     89.625589    123.208678   \n",
      "2019-01-04   4477800.0  117.320000  2019      1     88.563635    122.572974   \n",
      "2019-01-07   3751200.0  118.150002  2019      1     88.649667    122.157012   \n",
      "2019-01-08   4763600.0  119.830002  2019      1     87.629668    121.068571   \n",
      "2019-01-09   3633700.0  120.690002  2019      1     86.937923    120.750273   \n",
      "2019-01-10   3910000.0  121.790001  2019      1     86.186213    120.200537   \n",
      "2019-01-11   3722400.0  121.459999  2019      1     85.587275    119.255367   \n",
      "2019-01-14   5228700.0  120.389999  2019      1     85.020007    118.645533   \n",
      "2019-01-15   3507500.0  121.730003  2019      1     84.233646    118.118375   \n",
      "2019-01-16   3841100.0  121.620003  2019      1     83.122463    117.392409   \n",
      "2019-01-17   5029900.0  122.190002  2019      1     82.312082    116.900430   \n",
      "2019-01-18   6008500.0  123.820000  2019      1     81.367161    116.373576   \n",
      "2019-01-22  10052400.0  122.519997  2019      1     80.828853    115.850163   \n",
      "2019-01-23  22063700.0  132.889999  2019      1     80.331348    115.743126   \n",
      "2019-01-24   6322900.0  132.529999  2019      1     79.427400    115.769880   \n",
      "2019-01-25   5707400.0  133.970001  2019      1     78.330362    115.457641   \n",
      "2019-01-28   5357700.0  134.270004  2019      1     77.486528    115.308529   \n",
      "2019-01-29   5037100.0  134.330002  2019      1     76.428248    114.932437   \n",
      "2019-01-30   4500900.0  134.380005  2019      1     75.329747    114.990104   \n",
      "2019-01-31   4884000.0  134.419998  2019      1     74.243415    115.850238   \n",
      "\n",
      "            Holt_Winter3  \n",
      "Date                      \n",
      "2018-11-16    121.313660  \n",
      "2018-11-19    120.644452  \n",
      "2018-11-20    120.915087  \n",
      "2018-11-21    120.572815  \n",
      "2018-11-23    120.492450  \n",
      "2018-11-26    119.425784  \n",
      "2018-11-27    119.916083  \n",
      "2018-11-28    119.533600  \n",
      "2018-11-29    118.720727  \n",
      "2018-11-30    118.595233  \n",
      "2018-12-03    118.613128  \n",
      "2018-12-04    118.119230  \n",
      "2018-12-06    118.065738  \n",
      "2018-12-07    118.190840  \n",
      "2018-12-10    118.612502  \n",
      "2018-12-11    119.455452  \n",
      "2018-12-12    118.980026  \n",
      "2018-12-13    119.141199  \n",
      "2018-12-14    119.719204  \n",
      "2018-12-17    119.800758  \n",
      "2018-12-18    119.480944  \n",
      "2018-12-19    118.317472  \n",
      "2018-12-20    117.922399  \n",
      "2018-12-21    118.243609  \n",
      "2018-12-24    118.432968  \n",
      "2018-12-26    118.823857  \n",
      "2018-12-27    118.839545  \n",
      "2018-12-28    119.291460  \n",
      "2018-12-31    119.561724  \n",
      "2019-01-02    119.380079  \n",
      "2019-01-03    119.345596  \n",
      "2019-01-04    119.080605  \n",
      "2019-01-07    119.157722  \n",
      "2019-01-08    119.137242  \n",
      "2019-01-09    119.204904  \n",
      "2019-01-10    118.782338  \n",
      "2019-01-11    118.975424  \n",
      "2019-01-14    118.960751  \n",
      "2019-01-15    119.333574  \n",
      "2019-01-16    119.249331  \n",
      "2019-01-17    118.682896  \n",
      "2019-01-18    118.394751  \n",
      "2019-01-22    118.034907  \n",
      "2019-01-23    117.968382  \n",
      "2019-01-24    117.949584  \n",
      "2019-01-25    117.878590  \n",
      "2019-01-28    117.727392  \n",
      "2019-01-29    117.889877  \n",
      "2019-01-30    118.146108  \n",
      "2019-01-31    118.685118  \n"
     ]
    }
   ],
   "source": [
    "#Holt-Winter Method Cases:1-3\n",
    "w_holt = valid.copy()\n",
    "fit1 = ExponentialSmoothing(np.asarray(train['Adj Close']), seasonal_periods= 90, trend = 'add', seasonal='mul').fit()\n",
    "fit2 = ExponentialSmoothing(np.asarray(train['Adj Close']), seasonal_periods= 144, trend = 'add', seasonal='add').fit()\n",
    "fit3 = ExponentialSmoothing(np.asarray(train['Adj Close']), seasonal_periods= 204, trend = 'add', seasonal='mul').fit()\n",
    "\n",
    "w_holt['Holt_Winter1'] = fit1.forecast(len(valid))\n",
    "w_holt['Holt_Winter2'] = fit2.forecast(len(valid))\n",
    "w_holt['Holt_Winter3'] = fit3.forecast(len(valid))\n",
    "print(w_holt)"
   ]
  },
  {
   "cell_type": "code",
   "execution_count": 18,
   "metadata": {},
   "outputs": [
    {
     "name": "stdout",
     "output_type": "stream",
     "text": [
      "31.544317616820027\n",
      "8.983785799925869\n",
      "7.028025093868736\n"
     ]
    }
   ],
   "source": [
    "rmse1 = np.sqrt(mean_squared_error(valid['Adj Close'], w_holt['Holt_Winter1']))\n",
    "rmse2 = np.sqrt(mean_squared_error(valid['Adj Close'], w_holt['Holt_Winter2']))\n",
    "rmse3 = np.sqrt(mean_squared_error(valid['Adj Close'], w_holt['Holt_Winter3']))\n",
    "print(rmse1)\n",
    "print(rmse2)\n",
    "print(rmse3)"
   ]
  },
  {
   "cell_type": "code",
   "execution_count": 19,
   "metadata": {},
   "outputs": [
    {
     "name": "stderr",
     "output_type": "stream",
     "text": [
      "D:\\Programs\\Anaconda\\lib\\site-packages\\IPython\\core\\display.py:689: UserWarning:\n",
      "\n",
      "Consider using IPython.display.IFrame instead\n",
      "\n"
     ]
    },
    {
     "data": {
      "text/html": [
       "<iframe id=\"igraph\" scrolling=\"no\" style=\"border:none;\" seamless=\"seamless\" src=\"https://plot.ly/~gauraz.singh/11.embed\" height=\"525px\" width=\"100%\"></iframe>"
      ],
      "text/plain": [
       "<plotly.tools.PlotlyDisplay object>"
      ]
     },
     "execution_count": 19,
     "metadata": {},
     "output_type": "execute_result"
    }
   ],
   "source": [
    "trace0 = go.Scatter(x = train.index, y=train['Adj Close'], mode = 'lines', name ='Train')\n",
    "trace1 = go.Scatter(x = valid.index, y=valid['Adj Close'], mode = 'lines', name = 'Valid')\n",
    "trace2 = go.Scatter(x = valid.index, y=w_holt['Holt_Winter1'], mode = 'lines', name = 'Holt Winter1')\n",
    "trace3 = go.Scatter(x = valid.index, y=w_holt['Holt_Winter2'], mode = 'lines', name = 'Holt Winter2')\n",
    "trace4 = go.Scatter(x = valid.index, y=w_holt['Holt_Winter3'], mode = 'lines', name = 'Holt Winter3')\n",
    "\n",
    "\n",
    "data = [trace0, trace1, trace2, trace3, trace4]\n",
    "layout = dict(title = 'Holt-Winter Forecasting',\n",
    "              xaxis = dict(title = 'Date'),\n",
    "              yaxis = dict(title = 'Adj Close'),\n",
    "              )\n",
    "fig = dict(data=data, layout=layout)\n",
    "py.iplot(fig, filename='Holt_Winter')"
   ]
  },
  {
   "cell_type": "code",
   "execution_count": null,
   "metadata": {},
   "outputs": [],
   "source": []
  }
 ],
 "metadata": {
  "kernelspec": {
   "display_name": "Python 3",
   "language": "python",
   "name": "python3"
  },
  "language_info": {
   "codemirror_mode": {
    "name": "ipython",
    "version": 3
   },
   "file_extension": ".py",
   "mimetype": "text/x-python",
   "name": "python",
   "nbconvert_exporter": "python",
   "pygments_lexer": "ipython3",
   "version": "3.7.7"
  }
 },
 "nbformat": 4,
 "nbformat_minor": 2
}
